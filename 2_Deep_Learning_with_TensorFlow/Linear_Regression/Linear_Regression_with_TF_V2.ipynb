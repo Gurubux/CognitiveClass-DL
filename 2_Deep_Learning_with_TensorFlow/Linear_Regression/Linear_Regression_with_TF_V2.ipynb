{
  "nbformat": 4,
  "nbformat_minor": 0,
  "metadata": {
    "colab": {
      "name": "Linear_Regression_with_TF_2.ipynb",
      "version": "0.3.2",
      "provenance": [],
      "collapsed_sections": [],
      "toc_visible": true
    },
    "kernelspec": {
      "name": "python3",
      "display_name": "Python 3"
    }
  },
  "cells": [
    {
      "cell_type": "markdown",
      "metadata": {
        "id": "DfB2M0eEd4Uy",
        "colab_type": "text"
      },
      "source": [
        "[REFER](https://towardsdatascience.com/get-started-with-tensorflow-2-0-and-linear-regression-29b5dbd65977)"
      ]
    },
    {
      "cell_type": "markdown",
      "metadata": {
        "id": "ED6cEsCu781l",
        "colab_type": "text"
      },
      "source": [
        "# Linear Regression with TensorFlow 2.0 APIs\n",
        "This notebook demonstrates how to construct a linear regression model with the newest TensorFlow 2.0 APIs."
      ]
    },
    {
      "cell_type": "markdown",
      "metadata": {
        "id": "RNvDqE_3SHNj",
        "colab_type": "text"
      },
      "source": [
        "## Importing the packages\n",
        "\n",
        "First, we need to install [TensorFlow 2.0](https://www.tensorflow.org/alpha/guide/effective_tf2) from PyPI. It's currently available as an alpha release ( as of May 2019 ). Also, we import the [Pandas](https://pandas.pydata.org/) and [NumPy](https://www.numpy.org/) packages along with [Scikit Learn's `train_test_split` module.](https://scikit-learn.org/stable/modules/generated/sklearn.model_selection.train_test_split.html)"
      ]
    },
    {
      "cell_type": "code",
      "metadata": {
        "id": "e-A0vgnmRPXf",
        "colab_type": "code",
        "outputId": "354adc56-99d3-4bd1-bb17-6c43786160f1",
        "colab": {
          "base_uri": "https://localhost:8080/",
          "height": 34
        }
      },
      "source": [
        "\n",
        "import tensorflow as tf \n",
        "import numpy as np\n",
        "import pandas as pd\n",
        "from sklearn.model_selection import train_test_split\n",
        "\n",
        "print( tf.__version__ )\n"
      ],
      "execution_count": 1,
      "outputs": [
        {
          "output_type": "stream",
          "text": [
            "2.0.0-alpha0\n"
          ],
          "name": "stdout"
        }
      ]
    },
    {
      "cell_type": "markdown",
      "metadata": {
        "id": "ZrLriFD3kVB_",
        "colab_type": "text"
      },
      "source": [
        "**Note:**  Installing TensorFlow 2.0 can be an optional step if the Google Colab runtime has it by default. You can first check the TensorFlow version and then install TF 2.0 if necessary."
      ]
    },
    {
      "cell_type": "code",
      "metadata": {
        "id": "K76_iJ5o97Pl",
        "colab_type": "code",
        "colab": {
          "base_uri": "https://localhost:8080/",
          "height": 374
        },
        "outputId": "11ab4ba7-a6aa-4b41-8d2e-5001d0a3227b"
      },
      "source": [
        "\n",
        "!pip install tensorflow==2.0.0-alpha0\n"
      ],
      "execution_count": 2,
      "outputs": [
        {
          "output_type": "stream",
          "text": [
            "Requirement already satisfied: tensorflow==2.0.0-alpha0 in /usr/local/lib/python3.6/dist-packages (2.0.0a0)\n",
            "Requirement already satisfied: tf-estimator-nightly<1.14.0.dev2019030116,>=1.14.0.dev2019030115 in /usr/local/lib/python3.6/dist-packages (from tensorflow==2.0.0-alpha0) (1.14.0.dev2019030115)\n",
            "Requirement already satisfied: six>=1.10.0 in /usr/local/lib/python3.6/dist-packages (from tensorflow==2.0.0-alpha0) (1.12.0)\n",
            "Requirement already satisfied: google-pasta>=0.1.2 in /usr/local/lib/python3.6/dist-packages (from tensorflow==2.0.0-alpha0) (0.1.7)\n",
            "Requirement already satisfied: termcolor>=1.1.0 in /usr/local/lib/python3.6/dist-packages (from tensorflow==2.0.0-alpha0) (1.1.0)\n",
            "Requirement already satisfied: keras-applications>=1.0.6 in /usr/local/lib/python3.6/dist-packages (from tensorflow==2.0.0-alpha0) (1.0.8)\n",
            "Requirement already satisfied: keras-preprocessing>=1.0.5 in /usr/local/lib/python3.6/dist-packages (from tensorflow==2.0.0-alpha0) (1.1.0)\n",
            "Requirement already satisfied: protobuf>=3.6.1 in /usr/local/lib/python3.6/dist-packages (from tensorflow==2.0.0-alpha0) (3.7.1)\n",
            "Requirement already satisfied: grpcio>=1.8.6 in /usr/local/lib/python3.6/dist-packages (from tensorflow==2.0.0-alpha0) (1.15.0)\n",
            "Requirement already satisfied: astor>=0.6.0 in /usr/local/lib/python3.6/dist-packages (from tensorflow==2.0.0-alpha0) (0.8.0)\n",
            "Requirement already satisfied: wheel>=0.26 in /usr/local/lib/python3.6/dist-packages (from tensorflow==2.0.0-alpha0) (0.33.4)\n",
            "Requirement already satisfied: numpy<2.0,>=1.14.5 in /usr/local/lib/python3.6/dist-packages (from tensorflow==2.0.0-alpha0) (1.16.4)\n",
            "Requirement already satisfied: absl-py>=0.7.0 in /usr/local/lib/python3.6/dist-packages (from tensorflow==2.0.0-alpha0) (0.7.1)\n",
            "Requirement already satisfied: gast>=0.2.0 in /usr/local/lib/python3.6/dist-packages (from tensorflow==2.0.0-alpha0) (0.2.2)\n",
            "Requirement already satisfied: tb-nightly<1.14.0a20190302,>=1.14.0a20190301 in /usr/local/lib/python3.6/dist-packages (from tensorflow==2.0.0-alpha0) (1.14.0a20190301)\n",
            "Requirement already satisfied: h5py in /usr/local/lib/python3.6/dist-packages (from keras-applications>=1.0.6->tensorflow==2.0.0-alpha0) (2.8.0)\n",
            "Requirement already satisfied: setuptools in /usr/local/lib/python3.6/dist-packages (from protobuf>=3.6.1->tensorflow==2.0.0-alpha0) (41.0.1)\n",
            "Requirement already satisfied: markdown>=2.6.8 in /usr/local/lib/python3.6/dist-packages (from tb-nightly<1.14.0a20190302,>=1.14.0a20190301->tensorflow==2.0.0-alpha0) (3.1.1)\n",
            "Requirement already satisfied: werkzeug>=0.11.15 in /usr/local/lib/python3.6/dist-packages (from tb-nightly<1.14.0a20190302,>=1.14.0a20190301->tensorflow==2.0.0-alpha0) (0.15.5)\n"
          ],
          "name": "stdout"
        }
      ]
    },
    {
      "cell_type": "markdown",
      "metadata": {
        "id": "gSjWLlrOktS_",
        "colab_type": "text"
      },
      "source": [
        "## Processing the Data\n",
        "We download and preprocess our data for training and testing."
      ]
    },
    {
      "cell_type": "markdown",
      "metadata": {
        "id": "yTPjzPnQlkTv",
        "colab_type": "text"
      },
      "source": [
        "### Downloading the CSV file from GitHub\n",
        "\n",
        "We will download the ZIP archive hosted at [shubham0204/Dataset_Archives](https://github.com/shubham0204/Dataset_Archives) which contains the main CSV file. We are going to use the data from [Graduate Admissions on Kaggle.com](https://www.kaggle.com/mohansacharya/graduate-admissions). That's simple Python!\n",
        "\n",
        "\n"
      ]
    },
    {
      "cell_type": "code",
      "metadata": {
        "id": "8eIcvmD2l79n",
        "colab_type": "code",
        "colab": {}
      },
      "source": [
        "\n",
        "import requests, zipfile, io\n",
        "\n",
        "r = requests.get( 'https://github.com/shubham0204/Dataset_Archives/blob/master/graduate_admission_prediction.zip?raw=true' ) \n",
        "z = zipfile.ZipFile(io.BytesIO(r.content))\n",
        "z.extractall() \n"
      ],
      "execution_count": 0,
      "outputs": []
    },
    {
      "cell_type": "markdown",
      "metadata": {
        "id": "llJJvBbHvKVg",
        "colab_type": "text"
      },
      "source": [
        "### Reading the CSV file with Pandas\n",
        "We read the CSV file using [Pandas' `read_csv`](https://pandas.pydata.org/pandas-docs/stable/reference/api/pandas.read_csv.html) function and print the top 5 samples of the data.\n"
      ]
    },
    {
      "cell_type": "code",
      "metadata": {
        "id": "VycstAovSbng",
        "colab_type": "code",
        "outputId": "4eba11f6-416f-4252-82fc-de101d8936a2",
        "colab": {
          "base_uri": "https://localhost:8080/",
          "height": 197
        }
      },
      "source": [
        "\n",
        "data = pd.read_csv( 'graduate_admission_prediction/Admission_Predict_Ver1.1.csv' )\n",
        "data.head()\n"
      ],
      "execution_count": 4,
      "outputs": [
        {
          "output_type": "execute_result",
          "data": {
            "text/html": [
              "<div>\n",
              "<style scoped>\n",
              "    .dataframe tbody tr th:only-of-type {\n",
              "        vertical-align: middle;\n",
              "    }\n",
              "\n",
              "    .dataframe tbody tr th {\n",
              "        vertical-align: top;\n",
              "    }\n",
              "\n",
              "    .dataframe thead th {\n",
              "        text-align: right;\n",
              "    }\n",
              "</style>\n",
              "<table border=\"1\" class=\"dataframe\">\n",
              "  <thead>\n",
              "    <tr style=\"text-align: right;\">\n",
              "      <th></th>\n",
              "      <th>Serial No.</th>\n",
              "      <th>GRE Score</th>\n",
              "      <th>TOEFL Score</th>\n",
              "      <th>University Rating</th>\n",
              "      <th>SOP</th>\n",
              "      <th>LOR</th>\n",
              "      <th>CGPA</th>\n",
              "      <th>Research</th>\n",
              "      <th>Chance of Admit</th>\n",
              "    </tr>\n",
              "  </thead>\n",
              "  <tbody>\n",
              "    <tr>\n",
              "      <th>0</th>\n",
              "      <td>1</td>\n",
              "      <td>337</td>\n",
              "      <td>118</td>\n",
              "      <td>4</td>\n",
              "      <td>4.5</td>\n",
              "      <td>4.5</td>\n",
              "      <td>9.65</td>\n",
              "      <td>1</td>\n",
              "      <td>0.92</td>\n",
              "    </tr>\n",
              "    <tr>\n",
              "      <th>1</th>\n",
              "      <td>2</td>\n",
              "      <td>324</td>\n",
              "      <td>107</td>\n",
              "      <td>4</td>\n",
              "      <td>4.0</td>\n",
              "      <td>4.5</td>\n",
              "      <td>8.87</td>\n",
              "      <td>1</td>\n",
              "      <td>0.76</td>\n",
              "    </tr>\n",
              "    <tr>\n",
              "      <th>2</th>\n",
              "      <td>3</td>\n",
              "      <td>316</td>\n",
              "      <td>104</td>\n",
              "      <td>3</td>\n",
              "      <td>3.0</td>\n",
              "      <td>3.5</td>\n",
              "      <td>8.00</td>\n",
              "      <td>1</td>\n",
              "      <td>0.72</td>\n",
              "    </tr>\n",
              "    <tr>\n",
              "      <th>3</th>\n",
              "      <td>4</td>\n",
              "      <td>322</td>\n",
              "      <td>110</td>\n",
              "      <td>3</td>\n",
              "      <td>3.5</td>\n",
              "      <td>2.5</td>\n",
              "      <td>8.67</td>\n",
              "      <td>1</td>\n",
              "      <td>0.80</td>\n",
              "    </tr>\n",
              "    <tr>\n",
              "      <th>4</th>\n",
              "      <td>5</td>\n",
              "      <td>314</td>\n",
              "      <td>103</td>\n",
              "      <td>2</td>\n",
              "      <td>2.0</td>\n",
              "      <td>3.0</td>\n",
              "      <td>8.21</td>\n",
              "      <td>0</td>\n",
              "      <td>0.65</td>\n",
              "    </tr>\n",
              "  </tbody>\n",
              "</table>\n",
              "</div>"
            ],
            "text/plain": [
              "   Serial No.  GRE Score  TOEFL Score  ...  CGPA  Research  Chance of Admit \n",
              "0           1        337          118  ...  9.65         1              0.92\n",
              "1           2        324          107  ...  8.87         1              0.76\n",
              "2           3        316          104  ...  8.00         1              0.72\n",
              "3           4        322          110  ...  8.67         1              0.80\n",
              "4           5        314          103  ...  8.21         0              0.65\n",
              "\n",
              "[5 rows x 9 columns]"
            ]
          },
          "metadata": {
            "tags": []
          },
          "execution_count": 4
        }
      ]
    },
    {
      "cell_type": "markdown",
      "metadata": {
        "id": "ROmU8ZtivjTe",
        "colab_type": "text"
      },
      "source": [
        "### Processing the CSV\n",
        "\n",
        "We parse the values of the features from the Pandas `data` object. The steps are as follows:\n",
        "\n",
        "1.   Read the values from the numeric/continuous features and normalize them by dividing with 100. ( `continuous_features` ) \n",
        "2.   Read the values from the binary feature. ( `categorical_research_feature` ) \n",
        "3.   Concatenate both the features types to form the final features array. ( `X` )\n",
        "4.   Parse the label values. ( Y ) \n",
        "5.   Split the `X` and `Y` into training and validation datasets.\n",
        "6.   Convert all the arrays to `tf.Tensor` objects.\n",
        "\n",
        "\n",
        "\n"
      ]
    },
    {
      "cell_type": "code",
      "metadata": {
        "id": "_2UugVvZS_7x",
        "colab_type": "code",
        "colab": {}
      },
      "source": [
        "\n",
        "continuous_features = data[ ['GRE Score','TOEFL Score','University Rating','SOP','LOR ','CGPA'] ].values / 100 # ----( 1 )\n",
        "categorical_research_features = data[ [ 'Research' ] ].values # ----( 2 )\n",
        "\n",
        "X = np.concatenate( [ continuous_features , categorical_research_features ] , axis=1 ) # ----( 3 )\n",
        "Y = data[ [ 'Chance of Admit ' ] ].values # ----( 4 )\n",
        "\n",
        "train_features , test_features ,train_labels, test_labels = train_test_split( X , Y , test_size=0.2 ) # ----( 5 )\n",
        "\n",
        "X = tf.constant( train_features , dtype=tf.float32 ) # -----|\n",
        "Y = tf.constant( train_labels , dtype=tf.float32 ) # -------|\n",
        "                                                           #|---( 6 )\n",
        "test_X = tf.constant( test_features , dtype=tf.float32 ) #--|\n",
        "test_Y = tf.constant( test_labels , dtype=tf.float32 ) # ---|\n"
      ],
      "execution_count": 0,
      "outputs": []
    },
    {
      "cell_type": "markdown",
      "metadata": {
        "id": "Hp8j6c7B1Jq2",
        "colab_type": "text"
      },
      "source": [
        "## Linear Regression model\n",
        "\n",
        "We create various methods which help us in creating various components for our [linear regression model](https://machinelearningmastery.com/linear-regression-for-machine-learning/).\n"
      ]
    },
    {
      "cell_type": "markdown",
      "metadata": {
        "id": "xhOEx2981Xfs",
        "colab_type": "text"
      },
      "source": [
        "### Mean Squared Error and its derivative\n",
        "\n",
        "We define a method which calculates the [mean squared error](https://www.freecodecamp.org/news/machine-learning-mean-squared-error-regression-line-c7dde9a26b93/) given the predictions and the expected outcomes.\n",
        "\n",
        "$\\Large MSE( y , \\hat{y} ) = \\frac{ \\sum_{i=0}^{N} ( y_i - \\hat{y}_i )^2 } { N }$\n",
        "\n",
        "And its derivative,\n",
        "\n",
        "$\\Large MSE'( y , \\hat{y} ) = \\frac{ 2 * \\sum_{i=0}^{N} ( y_i - \\hat{y}_i ) } { N }$\n",
        "\n"
      ]
    },
    {
      "cell_type": "code",
      "metadata": {
        "id": "yaTYPGTIGwcY",
        "colab_type": "code",
        "colab": {}
      },
      "source": [
        "\n",
        "def mean_squared_error( Y , y_pred ):\n",
        "    return tf.reduce_mean( tf.square( y_pred - Y ) )\n",
        "\n",
        "def mean_squared_error_deriv( Y , y_pred ):\n",
        "    return tf.reshape( tf.reduce_mean( 2 * ( y_pred - Y ) ) , [ 1 , 1 ] )\n"
      ],
      "execution_count": 0,
      "outputs": []
    },
    {
      "cell_type": "markdown",
      "metadata": {
        "id": "s_4B8k9G2pHf",
        "colab_type": "text"
      },
      "source": [
        "### Hypothesis function (  Regression function )\n",
        "\n",
        "We define the hypothesis function *h* which takes in the weights and the bias and outputs the *Y* value for the given value of *X*.\n",
        "\n",
        "$\\Large h( x ) = W.X + B$\n",
        "\n",
        "where $W$ and $X$ are the parameters which are going to optimize by [Gradient Descent](https://ml-cheatsheet.readthedocs.io/en/latest/gradient_descent.html).\n",
        "\n"
      ]
    },
    {
      "cell_type": "code",
      "metadata": {
        "id": "HugDGNhAaF7v",
        "colab_type": "code",
        "colab": {}
      },
      "source": [
        "\n",
        "def h ( X , weights , bias ):\n",
        "    return tf.tensordot( X , weights , axes=1 ) + bias\n"
      ],
      "execution_count": 0,
      "outputs": []
    },
    {
      "cell_type": "markdown",
      "metadata": {
        "id": "VsQQJI6T33Ui",
        "colab_type": "text"
      },
      "source": [
        "### Defining hyperparameters and `tf.data.Dataset`\n",
        "We define two hyperparameters which will affect our training process.\n",
        "\n",
        "*   Batch Size $\\to$ The size of the mini-batch used in mini-batch gradient descent.\n",
        "*   Learning Rate $\\to$ The scalar value which scales the step size of the gradients.\n",
        "\n",
        "Also, for effective mini-batch training, we create a [`tf.data.Dataset`](https://www.tensorflow.org/versions/r2.0/api_docs/python/tf/data/Dataset) object which holds and batches our data tensors.\n",
        "\n",
        "\n",
        "\n"
      ]
    },
    {
      "cell_type": "code",
      "metadata": {
        "id": "g3aewwV75USS",
        "colab_type": "code",
        "colab": {}
      },
      "source": [
        "\n",
        "num_epochs = 10\n",
        "num_samples = X.shape[0]\n",
        "batch_size = 10\n",
        "learning_rate = 0.001\n",
        "\n",
        "dataset = tf.data.Dataset.from_tensor_slices(( X , Y )) \n",
        "dataset = dataset.shuffle( 500 ).repeat( num_epochs ).batch( batch_size )\n",
        "iterator = dataset.__iter__()\n"
      ],
      "execution_count": 0,
      "outputs": []
    },
    {
      "cell_type": "markdown",
      "metadata": {
        "id": "oViTe5G75YK7",
        "colab_type": "text"
      },
      "source": [
        "### Training the model\n",
        "\n",
        "We train the model for a given number of epochs. We perform optimization for every batch in our dataset.\n",
        "\n",
        "Forward Propogation, to calculate the loss, is as follows,\n",
        "\n",
        "$\\Large loss = MSE( W.X + b ) $\n",
        "\n",
        "To optimize the parameter $W$, the partial derivative of $MSE$ with respect to $W$ will be,\n",
        "\n",
        "\n",
        "$\\Large \\frac{ \\partial MSE }{ \\partial W} = \\frac{ \\partial MSE }{ \\partial h} \\frac{ \\partial h }{ \\partial W}$\n",
        "\n",
        "Similarly for bias $b$ , \n",
        "\n",
        "$\\Large \\frac{ \\partial MSE }{ \\partial b} = \\frac{ \\partial MSE }{ \\partial h} $\n"
      ]
    },
    {
      "cell_type": "code",
      "metadata": {
        "id": "Z0-QyOc2UhKC",
        "colab_type": "code",
        "outputId": "51490714-db38-4c73-d94e-cb2fb33d97c6",
        "colab": {
          "base_uri": "https://localhost:8080/",
          "height": 194
        }
      },
      "source": [
        "\n",
        "num_features = X.shape[1]\n",
        "weights = tf.random.normal((num_features , 1)) \n",
        "bias = 0\n",
        "\n",
        "epochs_plot = list()\n",
        "loss_plot = list()\n",
        "\n",
        "for i in range( num_epochs ) :\n",
        "    \n",
        "    epoch_loss = list()\n",
        "    for b in range( int(num_samples/batch_size) ):\n",
        "        x_batch , y_batch = iterator.get_next()\n",
        "   \n",
        "        output = h( x_batch , weights , bias ) \n",
        "        loss = epoch_loss.append( mean_squared_error( y_batch , output ).numpy() )\n",
        "    \n",
        "        dJ_dH = mean_squared_error_deriv( y_batch , output)\n",
        "        dH_dW = x_batch\n",
        "        dJ_dW = tf.reduce_mean( dJ_dH * dH_dW )\n",
        "        dJ_dB = tf.reduce_mean( dJ_dH )\n",
        "    \n",
        "        weights -= ( learning_rate * dJ_dW )\n",
        "        bias -= ( learning_rate * dJ_dB ) \n",
        "        \n",
        "    loss = np.array( epoch_loss ).mean()\n",
        "    epochs_plot.append( i + 1 )\n",
        "    loss_plot.append( loss ) \n",
        "    \n",
        "    print( 'Loss is {}'.format( loss ) ) \n",
        "    "
      ],
      "execution_count": 9,
      "outputs": [
        {
          "output_type": "stream",
          "text": [
            "Loss is 22.766529083251953\n",
            "Loss is 11.114420890808105\n",
            "Loss is 5.522889137268066\n",
            "Loss is 2.8490729331970215\n",
            "Loss is 1.573535442352295\n",
            "Loss is 0.9682140350341797\n",
            "Loss is 0.6855794191360474\n",
            "Loss is 0.5524787902832031\n",
            "Loss is 0.49282798171043396\n",
            "Loss is 0.4663113057613373\n"
          ],
          "name": "stdout"
        }
      ]
    },
    {
      "cell_type": "markdown",
      "metadata": {
        "id": "B0vOQ_vN7rnt",
        "colab_type": "text"
      },
      "source": [
        "### Plotting the epoch-loss graph\n",
        "\n",
        "We plot a simple graph which shows us the decrease in loss with increasing epochs."
      ]
    },
    {
      "cell_type": "code",
      "metadata": {
        "id": "CgKyMat-ujr9",
        "colab_type": "code",
        "outputId": "40bd5530-99ae-4ee1-e1c5-3865b821e900",
        "colab": {
          "base_uri": "https://localhost:8080/",
          "height": 268
        }
      },
      "source": [
        "\n",
        "import matplotlib.pyplot as plt\n",
        "\n",
        "plt.plot( epochs_plot , loss_plot ) \n",
        "plt.show()\n"
      ],
      "execution_count": 10,
      "outputs": [
        {
          "output_type": "display_data",
          "data": {
            "image/png": "[encoded data removed]",
            "text/plain": [
              "<Figure size 432x288 with 1 Axes>"
            ]
          },
          "metadata": {
            "tags": []
          }
        }
      ]
    },
    {
      "cell_type": "markdown",
      "metadata": {
        "id": "cNFROc6M8jQX",
        "colab_type": "text"
      },
      "source": [
        "## Evaluating the model\n",
        "\n",
        "We evaluate our model's performance by measuring the [Mean Absolute Error](https://ml-cheatsheet.readthedocs.io/en/latest/loss_functions.html?highlight=mean%20absolute#mae-l1) on the validation dataset."
      ]
    },
    {
      "cell_type": "code",
      "metadata": {
        "id": "uyKcSFJrbhRf",
        "colab_type": "code",
        "colab": {
          "base_uri": "https://localhost:8080/",
          "height": 34
        },
        "outputId": "97268953-c335-4f0b-b735-1e600c52be3f"
      },
      "source": [
        "\n",
        "output = h( test_X , weights , bias ) \n",
        "labels = test_Y\n",
        "\n",
        "accuracy_op = tf.metrics.MeanAbsoluteError() \n",
        "accuracy_op.update_state( labels , output )\n",
        "print( 'Mean Absolute Error = {}'.format( accuracy_op.result().numpy() ) )\n"
      ],
      "execution_count": 11,
      "outputs": [
        {
          "output_type": "stream",
          "text": [
            "Mean Absolute Error = 0.6494075059890747\n"
          ],
          "name": "stdout"
        }
      ]
    },
    {
      "cell_type": "code",
      "metadata": {
        "id": "B4tmdHMBYmUZ",
        "colab_type": "code",
        "colab": {
          "base_uri": "https://localhost:8080/",
          "height": 34
        },
        "outputId": "c412f5e4-29b1-4ac7-aa9d-a2bc7c50ec38"
      },
      "source": [
        "tf.test.is_gpu_available()"
      ],
      "execution_count": 12,
      "outputs": [
        {
          "output_type": "execute_result",
          "data": {
            "text/plain": [
              "False"
            ]
          },
          "metadata": {
            "tags": []
          },
          "execution_count": 12
        }
      ]
    }
  ]
}