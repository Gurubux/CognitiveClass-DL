{
  "nbformat": 4,
  "nbformat_minor": 0,
  "metadata": {
    "anaconda-cloud": {},
    "kernelspec": {
      "display_name": "Python",
      "language": "python",
      "name": "conda-env-python-py"
    },
    "language_info": {
      "codemirror_mode": {
        "name": "ipython",
        "version": 3
      },
      "file_extension": ".py",
      "mimetype": "text/x-python",
      "name": "python",
      "nbconvert_exporter": "python",
      "pygments_lexer": "ipython3",
      "version": "3.6.7"
    },
    "widgets": {
      "state": {},
      "version": "1.1.2"
    },
    "colab": {
      "name": "3.2-Review-LSTM-LanguageModelling.ipynb",
      "version": "0.3.2",
      "provenance": [],
      "collapsed_sections": [
        "2JKK-dldwHae"
      ]
    }
  },
  "cells": [
    {
      "cell_type": "markdown",
      "metadata": {
        "id": "STFp0YKJwHU9",
        "colab_type": "text"
      },
      "source": [
        "<a href=\"https://www.bigdatauniversity.com\"><img src=\"https://ibm.box.com/shared/static/qo20b88v1hbjztubt06609ovs85q8fau.png\" width=\"400px\" align=\"center\"></a>\n",
        "\n",
        "<h1 align=\"center\"><font size=\"5\">RECURRENT NETWORKS and LSTM IN DEEP LEARNING</font></h1>"
      ]
    },
    {
      "cell_type": "markdown",
      "metadata": {
        "id": "5KKXubvZwHVA",
        "colab_type": "text"
      },
      "source": [
        "<h2>Applying Recurrent Neural Networks/LSTM for Language Modeling</h2>\n",
        "Hello and welcome to this part. In this notebook, we will go over the topic of Language Modelling, and create a Recurrent Neural Network model based on the Long Short-Term Memory unit to train and benchmark on the Penn Treebank dataset. By the end of this notebook, you should be able to understand how TensorFlow builds and executes a RNN model for Language Modelling."
      ]
    },
    {
      "cell_type": "markdown",
      "metadata": {
        "id": "aLM_m5YewHVD",
        "colab_type": "text"
      },
      "source": [
        "<h2>The Objective</h2>\n",
        "By now, you should have an understanding of how Recurrent Networks work -- a specialized model to process sequential data by keeping track of the \"state\" or context. In this notebook, we go over a TensorFlow code snippet for creating a model focused on <b>Language Modelling</b> -- a very relevant task that is the cornerstone of many different linguistic problems such as <b>Speech Recognition, Machine Translation and Image Captioning</b>. For this, we will be using the Penn Treebank dataset, which is an often-used dataset for benchmarking Language Modelling models."
      ]
    },
    {
      "cell_type": "markdown",
      "metadata": {
        "id": "MLJBSDjhwHVG",
        "colab_type": "text"
      },
      "source": [
        "\n",
        "<h2>Table of Contents</h2>\n",
        "<ol>\n",
        "    <li><a href=\"#language_modelling\">What exactly is Language Modelling?</a></li>\n",
        "    <li><a href=\"#treebank_dataset\">The Penn Treebank dataset</a></li>\n",
        "    <li><a href=\"#word_embedding\">Work Embedding</a></li>\n",
        "    <li><a href=\"#building_lstm_model\">Building the LSTM model for Language Modeling</a></li>\n",
        "    <li><a href=\"#ltsm\">LTSM</a></li>\n",
        "</ol>\n",
        "<p></p>\n",
        "</div>\n",
        "<br>"
      ]
    },
    {
      "cell_type": "markdown",
      "metadata": {
        "button": false,
        "deletable": true,
        "new_sheet": false,
        "run_control": {
          "read_only": false
        },
        "id": "cVs3l9cJwHVI",
        "colab_type": "text"
      },
      "source": [
        "--------"
      ]
    },
    {
      "cell_type": "markdown",
      "metadata": {
        "button": false,
        "deletable": true,
        "new_sheet": false,
        "run_control": {
          "read_only": false
        },
        "id": "TtsJXO2gwHVK",
        "colab_type": "text"
      },
      "source": [
        "<a id=\"language_modelling\"></a>\n",
        "<h2>What exactly is Language Modelling?</h2>\n",
        "Language Modelling, to put it simply, <b>is the task of assigning probabilities to sequences of words</b>. This means that, given a context of one or a sequence of words in the language the model was trained on, the model should provide the next most probable words or sequence of words that follows from the given sequence of words the sentence. Language Modelling is one of the most important tasks in Natural Language Processing.\n",
        "\n",
        "<img src=\"https://ibm.box.com/shared/static/1d1i5gub6wljby2vani2vzxp0xsph702.png\" width=\"1080\">\n",
        "<center><i>Example of a sentence being predicted</i></center>\n",
        "<br><br>\n",
        "In this example, one can see the predictions for the next word of a sentence, given the context \"This is an\". As you can see, this boils down to a sequential data analysis task -- you are given a word or a sequence of words (the input data), and, given the context (the state), you need to find out what is the next word (the prediction). This kind of analysis is very important for language-related tasks such as <b>Speech Recognition, Machine Translation, Image Captioning, Text Correction</b> and many other very relevant problems. \n",
        "\n",
        "<img src=\"https://ibm.box.com/shared/static/az39idf9ipfdpc5ugifpgxnydelhyf3i.png\" width=\"1080\">\n",
        "<center><i>The above example is a schema of an RNN in execution</i></center>\n",
        "<br><br>\n",
        "As the above image shows, Recurrent Network models fit this problem like a glove. Alongside LSTM and its capacity to maintain the model's state for over one thousand time steps, we have all the tools we need to undertake this problem. The goal for this notebook is to create a model that can reach <b>low levels of perplexity</b> on our desired dataset.\n",
        "\n",
        "For Language Modelling problems, <b>perplexity</b> (inability to deal with or understand something) is the way to gauge efficiency. Perplexity is simply a measure of how well a probabilistic model is able to predict its sample. A higher-level way to explain this would be saying that <b>low perplexity means a higher degree of trust in the predictions the model makes</b>. Therefore, the lower perplexity is, the better."
      ]
    },
    {
      "cell_type": "markdown",
      "metadata": {
        "id": "yje2A6e_wHVN",
        "colab_type": "text"
      },
      "source": [
        "<a id=\"treebank_dataset\"></a>\n",
        "<h2>The Penn Treebank dataset</h2>\n",
        "Historically, datasets big enough for Natural Language Processing are hard to come by. This is in part due to the necessity of the sentences to be broken down and tagged with a certain degree of correctness -- or else the models trained on it won't be able to be correct at all. This means that we need a <b>large amount of data, annotated by or at least corrected by humans</b>. This is, of course, not an easy task at all.\n",
        "\n",
        "The Penn Treebank, or PTB for short, is a dataset maintained by the University of Pennsylvania. It is <i>huge</i> -- there are over <b>four million and eight hundred thousand</b> annotated words in it, all corrected by humans. It is composed of many different sources, from abstracts of Department of Energy papers to texts from the Library of America. Since it is verifiably correct and of such a huge size, the Penn Treebank is commonly used as a benchmark dataset for Language Modelling.\n",
        "\n",
        "The dataset is divided in different kinds of annotations, such as Piece-of-Speech, Syntactic and Semantic skeletons. For this example, we will simply use a sample of clean, non-annotated words (with the exception of one tag --<code>&lt;unk&gt;</code>\n",
        ", which is used for rare words such as uncommon proper nouns) for our model. This means that we just want to predict what the next words would be, not what they mean in context or their classes on a given sentence.\n",
        "\n",
        "<center>Example of text from the dataset we are going to use, <b>ptb.train</b></center>\n",
        "<br><br>\n",
        "\n",
        "<div class=\"alert alert-block alert-info\" style=\"margin-top: 20px\">\n",
        "    <center>the percentage of lung cancer deaths among the workers at the west <code>&lt;unk&gt;</code> mass. paper factory appears to be the highest for any asbestos workers studied in western industrialized countries he said \n",
        " the plant which is owned by <code>&lt;unk&gt;</code> & <code>&lt;unk&gt;</code> co. was under contract with <code>&lt;unk&gt;</code> to make the cigarette filters \n",
        " the finding probably will support those who argue that the U.S. should regulate the class of asbestos including <code>&lt;unk&gt;</code> more <code>&lt;unk&gt;</code> than the common kind of asbestos <code>&lt;unk&gt;</code> found in most schools and other buildings dr. <code>&lt;unk&gt;</code> said</center>\n",
        "</div>"
      ]
    },
    {
      "cell_type": "markdown",
      "metadata": {
        "button": false,
        "deletable": true,
        "new_sheet": false,
        "run_control": {
          "read_only": false
        },
        "id": "1ukGlQCqwHVQ",
        "colab_type": "text"
      },
      "source": [
        "<a id=\"word_embedding\"></a>\n",
        "<h2>Word Embeddings</h2><br/>\n",
        "\n",
        "For better processing, in this example, we will make use of <a href=\"https://www.tensorflow.org/tutorials/word2vec/\"><b>word embeddings</b></a>, which is <b>a way of representing sentence structures or words as n-dimensional vectors (where n is a reasonably high number, such as 200 or 500) of real numbers</b>. Basically, we will assign each word a randomly-initialized vector, and input those into the network to be processed. After a number of iterations, these vectors are expected to assume values that help the network to correctly predict what it needs to -- in our case, the probable next word in the sentence. This is shown to be a very effective task in Natural Language Processing, and is a commonplace practice.\n",
        "<br><br>\n",
        "<font size=\"4\"><strong>\n",
        "$$Vec(\"Example\") = [0.02, 0.00, 0.00, 0.92, 0.30, \\ldots]$$\n",
        "</strong></font>\n",
        "<br>\n",
        "Word Embedding tends to group up similarly used words <i>reasonably</i> close together in the vectorial space. For example, if we use T-SNE (a dimensional reduction visualization algorithm) to flatten the dimensions of our vectors into a 2-dimensional space and plot these words in a 2-dimensional space, we might see something like this:\n",
        "\n",
        "<img src=\"https://ibm.box.com/shared/static/bqhc5dg879gcoabzhxra1w8rkg3od1cu.png\" width=\"800\">\n",
        "<center><i>T-SNE Mockup with clusters marked for easier visualization</i></center>\n",
        "<br><br>\n",
        "As you can see, words that are frequently used together, in place of each other, or in the same places as them tend to be grouped together -- being closer together the higher they are correlated. For example, \"None\" is pretty semantically close to \"Zero\", while a phrase that uses \"Italy\", you could probably also fit \"Germany\" in it, with little damage to the sentence structure. The vectorial \"closeness\" for similar words like this is a great indicator of a well-built model.\n",
        "\n",
        "<hr>\n",
        " "
      ]
    },
    {
      "cell_type": "markdown",
      "metadata": {
        "button": false,
        "deletable": true,
        "new_sheet": false,
        "run_control": {
          "read_only": false
        },
        "id": "hoM41SgswHVS",
        "colab_type": "text"
      },
      "source": [
        "We need to import the necessary modules for our code. We need <b><code>numpy</code></b> and <b><code>tensorflow</code></b>, obviously. Additionally, we can import directly the <b><code>tensorflow.models.rnn</code></b> model, which includes the function for building RNNs, and <b><code>tensorflow.models.rnn.ptb.reader</code></b> which is the helper module for getting the input data from the dataset we just downloaded.\n",
        "\n",
        "If you want to learn more take a look at https://github.com/tensorflow/models/blob/master/tutorials/rnn/ptb/reader.py"
      ]
    },
    {
      "cell_type": "code",
      "metadata": {
        "button": false,
        "deletable": true,
        "new_sheet": false,
        "run_control": {
          "read_only": false
        },
        "id": "me-CPkPOwHVU",
        "colab_type": "code",
        "colab": {}
      },
      "source": [
        "import time\n",
        "import numpy as np\n",
        "import tensorflow as tf"
      ],
      "execution_count": 0,
      "outputs": []
    },
    {
      "cell_type": "code",
      "metadata": {
        "button": false,
        "deletable": true,
        "new_sheet": false,
        "run_control": {
          "read_only": false
        },
        "id": "I7Ef7tejwHVd",
        "colab_type": "code",
        "colab": {
          "base_uri": "https://localhost:8080/",
          "height": 141
        },
        "outputId": "e3461572-d612-4249-c435-0f8f28483328"
      },
      "source": [
        "!mkdir data\n",
        "!wget -q -O data/ptb.zip https://ibm.box.com/shared/static/z2yvmhbskc45xd2a9a4kkn6hg4g4kj5r.zip\n",
        "!unzip -o data/ptb.zip -d data\n",
        "!cp data/ptb/reader.py .\n",
        "\n",
        "import reader"
      ],
      "execution_count": 2,
      "outputs": [
        {
          "output_type": "stream",
          "text": [
            "Archive:  data/ptb.zip\n",
            "   creating: data/ptb/\n",
            "  inflating: data/ptb/reader.py      \n",
            "   creating: data/__MACOSX/\n",
            "   creating: data/__MACOSX/ptb/\n",
            "  inflating: data/__MACOSX/ptb/._reader.py  \n",
            "  inflating: data/__MACOSX/._ptb     \n"
          ],
          "name": "stdout"
        }
      ]
    },
    {
      "cell_type": "markdown",
      "metadata": {
        "button": false,
        "deletable": true,
        "new_sheet": false,
        "run_control": {
          "read_only": false
        },
        "id": "eb1b-83uwHVk",
        "colab_type": "text"
      },
      "source": [
        "<a id=\"building_lstm_model\"></a>\n",
        "<h2>Building the LSTM model for Language Modeling</h2>\n",
        "Now that we know exactly what we are doing, we can start building our model using TensorFlow. The very first thing we need to do is download and extract the <code>simple-examples</code> dataset, which can be done by executing the code cell below."
      ]
    },
    {
      "cell_type": "code",
      "metadata": {
        "button": false,
        "deletable": true,
        "new_sheet": false,
        "run_control": {
          "read_only": false
        },
        "id": "IBGYivMjwHVm",
        "colab_type": "code",
        "colab": {
          "base_uri": "https://localhost:8080/",
          "height": 212
        },
        "outputId": "16c6d284-9b5f-4cd4-a2b8-99d9ea63a30f"
      },
      "source": [
        "!wget http://www.fit.vutbr.cz/~imikolov/rnnlm/simple-examples.tgz \n",
        "!tar xzf simple-examples.tgz -C data/"
      ],
      "execution_count": 3,
      "outputs": [
        {
          "output_type": "stream",
          "text": [
            "--2019-08-21 10:39:12--  http://www.fit.vutbr.cz/~imikolov/rnnlm/simple-examples.tgz\n",
            "Resolving www.fit.vutbr.cz (www.fit.vutbr.cz)... 147.229.9.23, 2001:67c:1220:809::93e5:917\n",
            "Connecting to www.fit.vutbr.cz (www.fit.vutbr.cz)|147.229.9.23|:80... connected.\n",
            "HTTP request sent, awaiting response... 200 OK\n",
            "Length: 34869662 (33M) [application/x-gtar]\n",
            "Saving to: ‘simple-examples.tgz’\n",
            "\n",
            "simple-examples.tgz 100%[===================>]  33.25M  3.03MB/s    in 13s     \n",
            "\n",
            "2019-08-21 10:39:27 (2.47 MB/s) - ‘simple-examples.tgz’ saved [34869662/34869662]\n",
            "\n"
          ],
          "name": "stdout"
        }
      ]
    },
    {
      "cell_type": "markdown",
      "metadata": {
        "button": false,
        "deletable": true,
        "new_sheet": false,
        "run_control": {
          "read_only": false
        },
        "id": "cfud2xX6wHVr",
        "colab_type": "text"
      },
      "source": [
        "Additionally, for the sake of making it easy to play around with the model's hyperparameters, we can declare them beforehand. Feel free to change these -- you will see a difference in performance each time you change those!  \n"
      ]
    },
    {
      "cell_type": "code",
      "metadata": {
        "button": false,
        "deletable": true,
        "new_sheet": false,
        "run_control": {
          "read_only": false
        },
        "id": "Xlc_G-JTwHVt",
        "colab_type": "code",
        "colab": {}
      },
      "source": [
        "#Initial weight scale\n",
        "init_scale = 0.1\n",
        "#Initial learning rate\n",
        "learning_rate = 1.0\n",
        "#Maximum permissible norm for the gradient (For gradient clipping -- another measure against Exploding Gradients)\n",
        "max_grad_norm = 5\n",
        "#The number of layers in our model\n",
        "num_layers = 2\n",
        "#The total number of recurrence steps, also known as the number of layers when our RNN is \"unfolded\"\n",
        "num_steps = 20\n",
        "#The number of processing units (neurons) in the hidden layers\n",
        "hidden_size_l1 = 256\n",
        "hidden_size_l2 = 128\n",
        "#The maximum number of epochs trained with the initial learning rate\n",
        "max_epoch_decay_lr = 4\n",
        "#The total number of epochs in training\n",
        "max_epoch = 15\n",
        "#The probability for keeping data in the Dropout Layer (This is an optimization, but is outside our scope for this notebook!)\n",
        "#At 1, we ignore the Dropout Layer wrapping.\n",
        "keep_prob = 1\n",
        "#The decay for the learning rate\n",
        "decay = 0.5\n",
        "#The size for each batch of data\n",
        "batch_size = 60\n",
        "#The size of our vocabulary\n",
        "vocab_size = 10000\n",
        "embeding_vector_size = 200\n",
        "#Training flag to separate training from testing\n",
        "is_training = 1\n",
        "#Data directory for our dataset\n",
        "data_dir = \"data/simple-examples/data/\""
      ],
      "execution_count": 0,
      "outputs": []
    },
    {
      "cell_type": "markdown",
      "metadata": {
        "button": false,
        "deletable": true,
        "new_sheet": false,
        "run_control": {
          "read_only": false
        },
        "id": "adDAj3-0wHVx",
        "colab_type": "text"
      },
      "source": [
        "Some clarifications for LSTM architecture based on the arguments:\n",
        "\n",
        "Network structure:\n",
        "<ul>\n",
        "    <li>In this network, the number of LSTM cells are 2. To give the model more expressive power, we can add multiple layers of LSTMs to process the data. The output of the first layer will become the input of the second and so on.\n",
        "    </li>\n",
        "    <li>The recurrence steps is 20, that is, when our RNN is \"Unfolded\", the recurrence step is 20.</li>   \n",
        "    <li>the structure is like:\n",
        "        <ul>\n",
        "            <li>200 input units -> [200x200] Weight -> 200 Hidden units (first layer) -> [200x200] Weight matrix  -> 200 Hidden units (second layer) ->  [200] weight Matrix -> 200 unit output</li>\n",
        "        </ul>\n",
        "    </li>\n",
        "</ul>\n",
        "<br>\n",
        "\n",
        "Input layer: \n",
        "<ul>\n",
        "    <li>The network has 200 input units.</li>\n",
        "    <li>Suppose each word is represented by an embedding vector of dimensionality e=200. The input layer of each cell will have 200 linear units. These e=200 linear units are connected to each of the h=200 LSTM units in the hidden layer (assuming there is only one hidden layer, though our case has 2 layers).\n",
        "    </li>\n",
        "    <li>The input shape is [batch_size, num_steps], that is [30x20]. It will turn into [30x20x200] after embedding, and then 20x[30x200]\n",
        "    </li>\n",
        "</ul>\n",
        "<br>\n",
        "\n",
        "Hidden layer:\n",
        "<ul>\n",
        "    <li>Each LSTM has 200 hidden units which is equivalent to the dimensionality of the embedding words and output.</li>\n",
        "</ul>\n",
        "<br>"
      ]
    },
    {
      "cell_type": "markdown",
      "metadata": {
        "button": false,
        "deletable": true,
        "new_sheet": false,
        "run_control": {
          "read_only": false
        },
        "id": "FcXUXad8wHVz",
        "colab_type": "text"
      },
      "source": [
        "There is a lot to be done and a ton of information to process at the same time, so go over this code slowly. It may seem complex at first, but if you try to apply what you just learned about language modelling to the code you see, you should be able to understand it.\n",
        "\n",
        "This code is adapted from the <a href=\"https://github.com/tensorflow/models\">PTBModel</a> example bundled with the TensorFlow source code.\n",
        "\n",
        "\n",
        "<h4>Train data</h4>\n",
        "The story starts from data:\n",
        "<ul>\n",
        "    <li>Train data is a list of words, of size 929589, represented by numbers, e.g. [9971, 9972, 9974, 9975,...]</li>\n",
        "    <li>We read data as mini-batch of size b=30. Assume the size of each sentence is 20 words (num_steps = 20). Then it will take $$floor(\\frac{N}{b \\times h})+1=1548$$ iterations for the learner to go through all sentences once. Where N is the size of the list of words, b is batch size, andh is size of each sentence. So, the number of iterators is 1548\n",
        "    </li>\n",
        "    <li>Each batch data is read from train dataset of size 600, and shape of [30x20]</li>\n",
        "</ul>"
      ]
    },
    {
      "cell_type": "markdown",
      "metadata": {
        "button": false,
        "deletable": true,
        "new_sheet": false,
        "run_control": {
          "read_only": false
        },
        "id": "PDI1d_pdwHV1",
        "colab_type": "text"
      },
      "source": [
        "First we start an interactive session:"
      ]
    },
    {
      "cell_type": "code",
      "metadata": {
        "button": false,
        "deletable": true,
        "new_sheet": false,
        "run_control": {
          "read_only": false
        },
        "id": "PjelcD4FwHV2",
        "colab_type": "code",
        "colab": {}
      },
      "source": [
        "session = tf.InteractiveSession()"
      ],
      "execution_count": 0,
      "outputs": []
    },
    {
      "cell_type": "code",
      "metadata": {
        "button": false,
        "deletable": true,
        "new_sheet": false,
        "run_control": {
          "read_only": false
        },
        "id": "T0gYKHz6wHV8",
        "colab_type": "code",
        "colab": {
          "base_uri": "https://localhost:8080/",
          "height": 70
        },
        "outputId": "e05bb942-64e0-4b9c-be56-e3b317a45c78"
      },
      "source": [
        "# Reads the data and separates it into training data, validation data and testing data\n",
        "raw_data = reader.ptb_raw_data(data_dir)\n",
        "train_data, valid_data, test_data, vocab, word_to_id = raw_data"
      ],
      "execution_count": 6,
      "outputs": [
        {
          "output_type": "stream",
          "text": [
            "WARNING: Logging before flag parsing goes to stderr.\n",
            "W0821 10:39:29.975491 140505534711680 deprecation_wrapper.py:119] From /content/reader.py:30: The name tf.gfile.GFile is deprecated. Please use tf.io.gfile.GFile instead.\n",
            "\n"
          ],
          "name": "stderr"
        }
      ]
    },
    {
      "cell_type": "code",
      "metadata": {
        "id": "5voTDSOqwHWB",
        "colab_type": "code",
        "colab": {
          "base_uri": "https://localhost:8080/",
          "height": 34
        },
        "outputId": "9ec451bd-e591-4599-a90c-689dc42cea40"
      },
      "source": [
        "len(train_data)"
      ],
      "execution_count": 7,
      "outputs": [
        {
          "output_type": "execute_result",
          "data": {
            "text/plain": [
              "929589"
            ]
          },
          "metadata": {
            "tags": []
          },
          "execution_count": 7
        }
      ]
    },
    {
      "cell_type": "code",
      "metadata": {
        "id": "pdJBaPrSwHWG",
        "colab_type": "code",
        "colab": {}
      },
      "source": [
        "#word_to_id.items()\n",
        "#>>>dict_items([('the', 0), ('<unk>', 1), ('<eos>', 2), ('N', 3), ('of', 4), ('to', 5), ('a', 6), ('in', 7)\n",
        "\n",
        "#vocab #>>>10000\n",
        "#test = dict(word_to_id.items())\n",
        "#test.keys()"
      ],
      "execution_count": 0,
      "outputs": []
    },
    {
      "cell_type": "code",
      "metadata": {
        "id": "_UlK5uEZwHWL",
        "colab_type": "code",
        "colab": {
          "base_uri": "https://localhost:8080/",
          "height": 72
        },
        "outputId": "86f2139e-320b-4685-e485-ca2becfd401a"
      },
      "source": [
        "def id_to_word(id_list):\n",
        "    line = []\n",
        "    for w in id_list:\n",
        "        for word, wid in word_to_id.items():\n",
        "            if wid == w:\n",
        "                line.append(word)\n",
        "    return line            \n",
        "\n",
        "print(id_to_word(train_data[0:100]))\n",
        "print(len(id_to_word(train_data[0:100])))\n"
      ],
      "execution_count": 9,
      "outputs": [
        {
          "output_type": "stream",
          "text": [
            "['aer', 'banknote', 'berlitz', 'calloway', 'centrust', 'cluett', 'fromstein', 'gitano', 'guterman', 'hydro-quebec', 'ipo', 'kia', 'memotec', 'mlx', 'nahb', 'punts', 'rake', 'regatta', 'rubens', 'sim', 'snack-food', 'ssangyong', 'swapo', 'wachter', '<eos>', 'pierre', '<unk>', 'N', 'years', 'old', 'will', 'join', 'the', 'board', 'as', 'a', 'nonexecutive', 'director', 'nov.', 'N', '<eos>', 'mr.', '<unk>', 'is', 'chairman', 'of', '<unk>', 'n.v.', 'the', 'dutch', 'publishing', 'group', '<eos>', 'rudolph', '<unk>', 'N', 'years', 'old', 'and', 'former', 'chairman', 'of', 'consolidated', 'gold', 'fields', 'plc', 'was', 'named', 'a', 'nonexecutive', 'director', 'of', 'this', 'british', 'industrial', 'conglomerate', '<eos>', 'a', 'form', 'of', 'asbestos', 'once', 'used', 'to', 'make', 'kent', 'cigarette', 'filters', 'has', 'caused', 'a', 'high', 'percentage', 'of', 'cancer', 'deaths', 'among', 'a', 'group', 'of']\n",
            "100\n"
          ],
          "name": "stdout"
        }
      ]
    },
    {
      "cell_type": "markdown",
      "metadata": {
        "button": false,
        "deletable": true,
        "new_sheet": false,
        "run_control": {
          "read_only": false
        },
        "id": "2sZcaBRBwHWQ",
        "colab_type": "text"
      },
      "source": [
        "Lets just read one mini-batch now and feed our network:"
      ]
    },
    {
      "cell_type": "code",
      "metadata": {
        "button": false,
        "deletable": true,
        "new_sheet": false,
        "run_control": {
          "read_only": false
        },
        "id": "UW8ssDAvwHWS",
        "colab_type": "code",
        "colab": {
          "base_uri": "https://localhost:8080/",
          "height": 34
        },
        "outputId": "d004f6ee-5390-45b3-8551-2c7fb9729533"
      },
      "source": [
        "print(len(train_data), batch_size, num_steps)\n",
        "itera = reader.ptb_iterator(train_data, batch_size, num_steps)\n",
        "first_touple = itera.__next__()\n",
        "x = first_touple[0]\n",
        "y = first_touple[1]"
      ],
      "execution_count": 10,
      "outputs": [
        {
          "output_type": "stream",
          "text": [
            "929589 60 20\n"
          ],
          "name": "stdout"
        }
      ]
    },
    {
      "cell_type": "code",
      "metadata": {
        "button": false,
        "deletable": true,
        "new_sheet": false,
        "run_control": {
          "read_only": false
        },
        "id": "ooWiM_9RwHWX",
        "colab_type": "code",
        "colab": {
          "base_uri": "https://localhost:8080/",
          "height": 34
        },
        "outputId": "b5ce722a-0d88-40ec-8089-940916e385bd"
      },
      "source": [
        "x.shape,y.shape,np.ndim(first_touple)\n"
      ],
      "execution_count": 11,
      "outputs": [
        {
          "output_type": "execute_result",
          "data": {
            "text/plain": [
              "((60, 20), (60, 20), 3)"
            ]
          },
          "metadata": {
            "tags": []
          },
          "execution_count": 11
        }
      ]
    },
    {
      "cell_type": "markdown",
      "metadata": {
        "button": false,
        "deletable": true,
        "new_sheet": false,
        "run_control": {
          "read_only": false
        },
        "id": "WZPaOafYwHWc",
        "colab_type": "text"
      },
      "source": [
        "Lets look at 3 sentences of our input x:"
      ]
    },
    {
      "cell_type": "code",
      "metadata": {
        "button": false,
        "deletable": true,
        "new_sheet": false,
        "run_control": {
          "read_only": false
        },
        "id": "9tsEQDPjwHWe",
        "colab_type": "code",
        "colab": {
          "base_uri": "https://localhost:8080/",
          "height": 141
        },
        "outputId": "8cadf8d7-6fd3-4229-cac2-0b38595d2f83"
      },
      "source": [
        "x[0:3]"
      ],
      "execution_count": 12,
      "outputs": [
        {
          "output_type": "execute_result",
          "data": {
            "text/plain": [
              "array([[9970, 9971, 9972, 9974, 9975, 9976, 9980, 9981, 9982, 9983, 9984,\n",
              "        9986, 9987, 9988, 9989, 9991, 9992, 9993, 9994, 9995],\n",
              "       [ 901,   33, 3361,    8, 1279,  437,  597,    6,  261, 4276, 1089,\n",
              "           8, 2836,    2,  269,    4, 5526,  241,   13, 2420],\n",
              "       [2654,    6,  334, 2886,    4,    1,  233,  711,  834,   11,  130,\n",
              "         123,    7,  514,    2,   63,   10,  514,    8,  605]],\n",
              "      dtype=int32)"
            ]
          },
          "metadata": {
            "tags": []
          },
          "execution_count": 12
        }
      ]
    },
    {
      "cell_type": "markdown",
      "metadata": {
        "button": false,
        "deletable": true,
        "new_sheet": false,
        "run_control": {
          "read_only": false
        },
        "id": "yTwD7h9bwHWk",
        "colab_type": "text"
      },
      "source": [
        "we define 2 place holders to feed them with mini-batchs, that is x and y:"
      ]
    },
    {
      "cell_type": "code",
      "metadata": {
        "button": false,
        "deletable": true,
        "new_sheet": false,
        "run_control": {
          "read_only": false
        },
        "id": "RH3Y4PCMwHWm",
        "colab_type": "code",
        "colab": {}
      },
      "source": [
        "_input_data = tf.placeholder(tf.int32, [batch_size, num_steps]) #[30#20]\n",
        "_targets = tf.placeholder(tf.int32, [batch_size, num_steps]) #[30#20]"
      ],
      "execution_count": 0,
      "outputs": []
    },
    {
      "cell_type": "markdown",
      "metadata": {
        "button": false,
        "deletable": true,
        "new_sheet": false,
        "run_control": {
          "read_only": false
        },
        "id": "X6XpyINVwHWq",
        "colab_type": "text"
      },
      "source": [
        "Lets define a dictionary, and use it later to feed the placeholders with our first mini-batch:"
      ]
    },
    {
      "cell_type": "code",
      "metadata": {
        "button": false,
        "deletable": true,
        "new_sheet": false,
        "run_control": {
          "read_only": false
        },
        "id": "E5hgpC0_wHWs",
        "colab_type": "code",
        "colab": {}
      },
      "source": [
        "feed_dict = {_input_data:x, _targets:y}"
      ],
      "execution_count": 0,
      "outputs": []
    },
    {
      "cell_type": "markdown",
      "metadata": {
        "button": false,
        "deletable": true,
        "new_sheet": false,
        "run_control": {
          "read_only": false
        },
        "id": "5Q9ooA3WwHWz",
        "colab_type": "text"
      },
      "source": [
        "For example, we can use it to feed <code>\\_input\\_data</code>:"
      ]
    },
    {
      "cell_type": "code",
      "metadata": {
        "button": false,
        "deletable": true,
        "new_sheet": false,
        "run_control": {
          "read_only": false
        },
        "id": "OT8DtxA8wHW1",
        "colab_type": "code",
        "colab": {
          "base_uri": "https://localhost:8080/",
          "height": 141
        },
        "outputId": "b168fa9b-bbaf-4ae5-c57e-86bd5cece6fb"
      },
      "source": [
        "session.run(_input_data, feed_dict)"
      ],
      "execution_count": 15,
      "outputs": [
        {
          "output_type": "execute_result",
          "data": {
            "text/plain": [
              "array([[9970, 9971, 9972, ..., 9993, 9994, 9995],\n",
              "       [ 901,   33, 3361, ...,  241,   13, 2420],\n",
              "       [2654,    6,  334, ...,  514,    8,  605],\n",
              "       ...,\n",
              "       [7831,   36, 1678, ...,    4, 4558,  157],\n",
              "       [  59, 2070, 2433, ...,  400,    1, 1173],\n",
              "       [2097,    3,    2, ..., 2043,   23,    1]], dtype=int32)"
            ]
          },
          "metadata": {
            "tags": []
          },
          "execution_count": 15
        }
      ]
    },
    {
      "cell_type": "markdown",
      "metadata": {
        "button": false,
        "deletable": true,
        "new_sheet": false,
        "run_control": {
          "read_only": false
        },
        "id": "AXtzX6amwHXC",
        "colab_type": "text"
      },
      "source": [
        "In this step, we create the stacked LSTM, which is a 2 layer LSTM network:"
      ]
    },
    {
      "cell_type": "code",
      "metadata": {
        "button": false,
        "deletable": true,
        "new_sheet": false,
        "run_control": {
          "read_only": false
        },
        "id": "zsZYsMQrwHXI",
        "colab_type": "code",
        "colab": {
          "base_uri": "https://localhost:8080/",
          "height": 303
        },
        "outputId": "9070a7f7-8eb9-46cc-9f77-c2ee37c02dc5"
      },
      "source": [
        "print(hidden_size_l1,hidden_size_l2)\n",
        "lstm_cell_l1 = tf.contrib.rnn.BasicLSTMCell(hidden_size_l1, forget_bias=0.0)\n",
        "lstm_cell_l2 = tf.contrib.rnn.BasicLSTMCell(hidden_size_l2, forget_bias=0.0)\n",
        "stacked_lstm = tf.contrib.rnn.MultiRNNCell([lstm_cell_l1, lstm_cell_l2])"
      ],
      "execution_count": 16,
      "outputs": [
        {
          "output_type": "stream",
          "text": [
            "256 128\n"
          ],
          "name": "stdout"
        },
        {
          "output_type": "stream",
          "text": [
            "W0821 10:39:32.627975 140505534711680 lazy_loader.py:50] \n",
            "The TensorFlow contrib module will not be included in TensorFlow 2.0.\n",
            "For more information, please see:\n",
            "  * https://github.com/tensorflow/community/blob/master/rfcs/20180907-contrib-sunset.md\n",
            "  * https://github.com/tensorflow/addons\n",
            "  * https://github.com/tensorflow/io (for I/O related ops)\n",
            "If you depend on functionality not listed there, please file an issue.\n",
            "\n",
            "W0821 10:39:32.629211 140505534711680 deprecation.py:323] From <ipython-input-16-3d8285f7a283>:2: BasicLSTMCell.__init__ (from tensorflow.python.ops.rnn_cell_impl) is deprecated and will be removed in a future version.\n",
            "Instructions for updating:\n",
            "This class is equivalent as tf.keras.layers.LSTMCell, and will be replaced by that in Tensorflow 2.0.\n",
            "W0821 10:39:32.631301 140505534711680 deprecation.py:323] From <ipython-input-16-3d8285f7a283>:4: MultiRNNCell.__init__ (from tensorflow.python.ops.rnn_cell_impl) is deprecated and will be removed in a future version.\n",
            "Instructions for updating:\n",
            "This class is equivalent as tf.keras.layers.StackedRNNCells, and will be replaced by that in Tensorflow 2.0.\n"
          ],
          "name": "stderr"
        }
      ]
    },
    {
      "cell_type": "markdown",
      "metadata": {
        "button": false,
        "deletable": true,
        "new_sheet": false,
        "run_control": {
          "read_only": false
        },
        "id": "BPw5AOG1wHXR",
        "colab_type": "text"
      },
      "source": [
        "Also, we initialize the states of the nework:\n",
        "\n",
        "<h4>_initial_state</h4>\n",
        "\n",
        "For each LCTM, there are 2 state matrices, c\\_state and m\\_state.  c_state and m_state represent \"Memory State\" and \"Cell State\". Each hidden layer, has a vector of size 30, which keeps the states. so, for 200 hidden units in each LSTM, we have a matrix of size [30x200]"
      ]
    },
    {
      "cell_type": "code",
      "metadata": {
        "button": false,
        "deletable": true,
        "new_sheet": false,
        "run_control": {
          "read_only": false
        },
        "id": "YcsgQsdjwHXT",
        "colab_type": "code",
        "colab": {
          "base_uri": "https://localhost:8080/",
          "height": 90
        },
        "outputId": "9e53fc66-e648-4ab2-f0b2-7ac8135f0ac3"
      },
      "source": [
        "print(batch_size)\n",
        "_initial_state = stacked_lstm.zero_state(batch_size, tf.float32)\n",
        "_initial_state"
      ],
      "execution_count": 17,
      "outputs": [
        {
          "output_type": "stream",
          "text": [
            "60\n"
          ],
          "name": "stdout"
        },
        {
          "output_type": "execute_result",
          "data": {
            "text/plain": [
              "(LSTMStateTuple(c=<tf.Tensor 'MultiRNNCellZeroState/BasicLSTMCellZeroState/zeros:0' shape=(60, 256) dtype=float32>, h=<tf.Tensor 'MultiRNNCellZeroState/BasicLSTMCellZeroState/zeros_1:0' shape=(60, 256) dtype=float32>),\n",
              " LSTMStateTuple(c=<tf.Tensor 'MultiRNNCellZeroState/BasicLSTMCellZeroState_1/zeros:0' shape=(60, 128) dtype=float32>, h=<tf.Tensor 'MultiRNNCellZeroState/BasicLSTMCellZeroState_1/zeros_1:0' shape=(60, 128) dtype=float32>))"
            ]
          },
          "metadata": {
            "tags": []
          },
          "execution_count": 17
        }
      ]
    },
    {
      "cell_type": "markdown",
      "metadata": {
        "button": false,
        "deletable": true,
        "new_sheet": false,
        "run_control": {
          "read_only": false
        },
        "id": "Hydekyo7wHXY",
        "colab_type": "text"
      },
      "source": [
        "Lets look at the states, though they are all zero for now:"
      ]
    },
    {
      "cell_type": "code",
      "metadata": {
        "button": false,
        "deletable": true,
        "new_sheet": false,
        "run_control": {
          "read_only": false
        },
        "id": "cUfV6f_NwHXa",
        "colab_type": "code",
        "colab": {
          "base_uri": "https://localhost:8080/",
          "height": 478
        },
        "outputId": "d20dd36e-2e9a-4133-8ae9-9586c3f9db44"
      },
      "source": [
        "session.run(_initial_state, feed_dict)"
      ],
      "execution_count": 18,
      "outputs": [
        {
          "output_type": "execute_result",
          "data": {
            "text/plain": [
              "(LSTMStateTuple(c=array([[0., 0., 0., ..., 0., 0., 0.],\n",
              "       [0., 0., 0., ..., 0., 0., 0.],\n",
              "       [0., 0., 0., ..., 0., 0., 0.],\n",
              "       ...,\n",
              "       [0., 0., 0., ..., 0., 0., 0.],\n",
              "       [0., 0., 0., ..., 0., 0., 0.],\n",
              "       [0., 0., 0., ..., 0., 0., 0.]], dtype=float32), h=array([[0., 0., 0., ..., 0., 0., 0.],\n",
              "       [0., 0., 0., ..., 0., 0., 0.],\n",
              "       [0., 0., 0., ..., 0., 0., 0.],\n",
              "       ...,\n",
              "       [0., 0., 0., ..., 0., 0., 0.],\n",
              "       [0., 0., 0., ..., 0., 0., 0.],\n",
              "       [0., 0., 0., ..., 0., 0., 0.]], dtype=float32)),\n",
              " LSTMStateTuple(c=array([[0., 0., 0., ..., 0., 0., 0.],\n",
              "       [0., 0., 0., ..., 0., 0., 0.],\n",
              "       [0., 0., 0., ..., 0., 0., 0.],\n",
              "       ...,\n",
              "       [0., 0., 0., ..., 0., 0., 0.],\n",
              "       [0., 0., 0., ..., 0., 0., 0.],\n",
              "       [0., 0., 0., ..., 0., 0., 0.]], dtype=float32), h=array([[0., 0., 0., ..., 0., 0., 0.],\n",
              "       [0., 0., 0., ..., 0., 0., 0.],\n",
              "       [0., 0., 0., ..., 0., 0., 0.],\n",
              "       ...,\n",
              "       [0., 0., 0., ..., 0., 0., 0.],\n",
              "       [0., 0., 0., ..., 0., 0., 0.],\n",
              "       [0., 0., 0., ..., 0., 0., 0.]], dtype=float32)))"
            ]
          },
          "metadata": {
            "tags": []
          },
          "execution_count": 18
        }
      ]
    },
    {
      "cell_type": "markdown",
      "metadata": {
        "button": false,
        "deletable": true,
        "new_sheet": false,
        "run_control": {
          "read_only": false
        },
        "id": "0IGJFs2IwHXe",
        "colab_type": "text"
      },
      "source": [
        "<h3>Embeddings</h3>\n",
        "We have to convert the words in our dataset to vectors of numbers. The traditional approach is to use one-hot encoding method that is usually used for converting categorical values to numerical values. However, One-hot encoded vectors are high-dimensional, sparse and in a big dataset, computationally inefficient. So, we use word2vec approach. It is, in fact, a layer in our LSTM network, where the word IDs will be represented as a dense representation before feeding to the LSTM. \n",
        "\n",
        "The embedded vectors also get updated during the training process of the deep neural network.\n",
        "We create the embeddings for our input data. <b>embedding_vocab</b> is matrix of [10000x200] for all 10000 unique words."
      ]
    },
    {
      "cell_type": "code",
      "metadata": {
        "button": false,
        "deletable": true,
        "new_sheet": false,
        "run_control": {
          "read_only": false
        },
        "id": "p6D_8WXMwHXg",
        "colab_type": "code",
        "colab": {
          "base_uri": "https://localhost:8080/",
          "height": 107
        },
        "outputId": "3c1b3319-eee2-4202-f7ad-53fa99818dea"
      },
      "source": [
        "print(embeding_vector_size,vocab_size)\n",
        "embedding_vocab = tf.get_variable(\"embedding_vocab\", [vocab_size, embeding_vector_size])  #[10000x200]"
      ],
      "execution_count": 19,
      "outputs": [
        {
          "output_type": "stream",
          "text": [
            "W0821 10:39:32.713752 140505534711680 deprecation.py:506] From /usr/local/lib/python3.6/dist-packages/tensorflow/python/ops/init_ops.py:1251: calling VarianceScaling.__init__ (from tensorflow.python.ops.init_ops) with dtype is deprecated and will be removed in a future version.\n",
            "Instructions for updating:\n",
            "Call initializer instance with the dtype argument instead of passing it to the constructor\n"
          ],
          "name": "stderr"
        },
        {
          "output_type": "stream",
          "text": [
            "200 10000\n"
          ],
          "name": "stdout"
        }
      ]
    },
    {
      "cell_type": "markdown",
      "metadata": {
        "id": "iR9k3vgAwHXl",
        "colab_type": "text"
      },
      "source": [
        "Lets initialize the <code>embedding_words</code> variable with random values."
      ]
    },
    {
      "cell_type": "code",
      "metadata": {
        "button": false,
        "deletable": true,
        "new_sheet": false,
        "run_control": {
          "read_only": false
        },
        "id": "IfTewg3wwHXm",
        "colab_type": "code",
        "colab": {
          "base_uri": "https://localhost:8080/",
          "height": 247
        },
        "outputId": "e455487e-d955-48c4-cf62-f3570cb34d7b"
      },
      "source": [
        "session.run(tf.global_variables_initializer())\n",
        "session.run(embedding_vocab)"
      ],
      "execution_count": 20,
      "outputs": [
        {
          "output_type": "execute_result",
          "data": {
            "text/plain": [
              "array([[-0.01747218, -0.02343122,  0.01748228, ...,  0.0148658 ,\n",
              "        -0.01833933,  0.02026868],\n",
              "       [-0.00735291, -0.00229598,  0.00078217, ...,  0.00109253,\n",
              "         0.01123668,  0.01130688],\n",
              "       [-0.02080053, -0.01351785,  0.00576361, ...,  0.00385706,\n",
              "        -0.01882893,  0.00335746],\n",
              "       ...,\n",
              "       [ 0.01195117,  0.01916195, -0.00638428, ...,  0.01266374,\n",
              "         0.00356857, -0.01679002],\n",
              "       [-0.02287842, -0.00536288, -0.01482145, ..., -0.01384337,\n",
              "        -0.0047212 , -0.02380411],\n",
              "       [-0.02220608, -0.01088295, -0.01762693, ..., -0.0120532 ,\n",
              "         0.00350443,  0.02130789]], dtype=float32)"
            ]
          },
          "metadata": {
            "tags": []
          },
          "execution_count": 20
        }
      ]
    },
    {
      "cell_type": "markdown",
      "metadata": {
        "button": false,
        "deletable": true,
        "new_sheet": false,
        "run_control": {
          "read_only": false
        },
        "id": "dICIZj1XwHXq",
        "colab_type": "text"
      },
      "source": [
        "<b>embedding_lookup()</b> finds the embedded values for our batch of 30x20 words. It  goes to each row of <code>input_data</code>, and for each word in the row/sentence, finds the correspond vector in <code>embedding_dic<code>. <br>\n",
        "It creates a [30x20x200] tensor, so, the first element of <b>inputs</b> (the first sentence), is a matrix of 20x200, which each row of it, is vector representing a word in the sentence."
      ]
    },
    {
      "cell_type": "code",
      "metadata": {
        "button": false,
        "deletable": true,
        "new_sheet": false,
        "run_control": {
          "read_only": false
        },
        "id": "V_-4BHGQwHXr",
        "colab_type": "code",
        "colab": {
          "base_uri": "https://localhost:8080/",
          "height": 34
        },
        "outputId": "dc13923e-9087-4c99-fe15-9c3308a77985"
      },
      "source": [
        "# Define where to get the data for our embeddings from\n",
        "inputs = tf.nn.embedding_lookup(embedding_vocab, _input_data)  #shape=(30, 20, 200) \n",
        "inputs"
      ],
      "execution_count": 21,
      "outputs": [
        {
          "output_type": "execute_result",
          "data": {
            "text/plain": [
              "<tf.Tensor 'embedding_lookup/Identity:0' shape=(60, 20, 200) dtype=float32>"
            ]
          },
          "metadata": {
            "tags": []
          },
          "execution_count": 21
        }
      ]
    },
    {
      "cell_type": "code",
      "metadata": {
        "button": false,
        "deletable": true,
        "new_sheet": false,
        "run_control": {
          "read_only": false
        },
        "id": "Auagp1iMwHXv",
        "colab_type": "code",
        "colab": {
          "base_uri": "https://localhost:8080/",
          "height": 247
        },
        "outputId": "f945f67e-94e7-421d-9252-f5cbac231c4c"
      },
      "source": [
        "session.run(inputs[0], feed_dict)"
      ],
      "execution_count": 22,
      "outputs": [
        {
          "output_type": "execute_result",
          "data": {
            "text/plain": [
              "array([[ 0.00837759, -0.00364326, -0.00492283, ...,  0.00661527,\n",
              "        -0.01703012, -0.00647347],\n",
              "       [-0.008672  ,  0.01661671,  0.01876109, ...,  0.01364413,\n",
              "         0.00861651,  0.01942705],\n",
              "       [-0.0180371 ,  0.01178138,  0.02415295, ...,  0.00915448,\n",
              "         0.02125587,  0.01259157],\n",
              "       ...,\n",
              "       [ 0.00279798, -0.02143019,  0.01572427, ..., -0.01723853,\n",
              "         0.02059766,  0.01519962],\n",
              "       [-0.00840484, -0.02355206, -0.00817653, ...,  0.01843493,\n",
              "         0.0131307 ,  0.00165007],\n",
              "       [ 0.02243689, -0.00055993, -0.01302351, ...,  0.01259696,\n",
              "        -0.01891899,  0.01359707]], dtype=float32)"
            ]
          },
          "metadata": {
            "tags": []
          },
          "execution_count": 22
        }
      ]
    },
    {
      "cell_type": "markdown",
      "metadata": {
        "button": false,
        "deletable": true,
        "new_sheet": false,
        "run_control": {
          "read_only": false
        },
        "id": "7TahwbQ7wHX1",
        "colab_type": "text"
      },
      "source": [
        "<h3>Constructing Recurrent Neural Networks</h3>\n",
        "<b>tf.nn.dynamic_rnn()</b> creates a recurrent neural network using <b>stacked_lstm</b>. \n",
        "\n",
        "The input should be a Tensor of shape: [batch_size, max_time, embedding_vector_size], in our case it would be (30, 20, 200)\n",
        "\n",
        "This method, returns a pair (outputs, new_state) where:\n",
        "<ul>\n",
        "    <li><b>outputs</b>: is a length T list of outputs (one for each input), or a nested tuple of such elements.</li>\n",
        "    <li><b>new_state</b>: is the final state.</li>\n",
        "</ul>"
      ]
    },
    {
      "cell_type": "code",
      "metadata": {
        "button": false,
        "deletable": true,
        "new_sheet": false,
        "run_control": {
          "read_only": false
        },
        "scrolled": true,
        "id": "bOrzosVjwHX3",
        "colab_type": "code",
        "colab": {
          "base_uri": "https://localhost:8080/",
          "height": 143
        },
        "outputId": "a2ac1f3d-c995-445b-8203-1eedb983cf15"
      },
      "source": [
        "outputs, new_state =  tf.nn.dynamic_rnn(stacked_lstm, inputs, initial_state=_initial_state)"
      ],
      "execution_count": 23,
      "outputs": [
        {
          "output_type": "stream",
          "text": [
            "W0821 10:39:32.860167 140505534711680 deprecation.py:323] From <ipython-input-23-f5b68f99f9ac>:1: dynamic_rnn (from tensorflow.python.ops.rnn) is deprecated and will be removed in a future version.\n",
            "Instructions for updating:\n",
            "Please use `keras.layers.RNN(cell)`, which is equivalent to this API\n",
            "W0821 10:39:33.415936 140505534711680 deprecation.py:506] From /usr/local/lib/python3.6/dist-packages/tensorflow/python/ops/rnn_cell_impl.py:738: calling Zeros.__init__ (from tensorflow.python.ops.init_ops) with dtype is deprecated and will be removed in a future version.\n",
            "Instructions for updating:\n",
            "Call initializer instance with the dtype argument instead of passing it to the constructor\n"
          ],
          "name": "stderr"
        }
      ]
    },
    {
      "cell_type": "markdown",
      "metadata": {
        "button": false,
        "deletable": true,
        "new_sheet": false,
        "run_control": {
          "read_only": false
        },
        "id": "tpT-tqzfwHX7",
        "colab_type": "text"
      },
      "source": [
        "so, lets look at the outputs. The output of the stackedLSTM comes from 200 hidden_layer, and in each time step(=20), one of them get activated. we use the linear activation to map the 200 hidden layer to a [?x10 matrix]"
      ]
    },
    {
      "cell_type": "code",
      "metadata": {
        "button": false,
        "deletable": true,
        "new_sheet": false,
        "run_control": {
          "read_only": false
        },
        "id": "RjnBkOrtwHX9",
        "colab_type": "code",
        "colab": {
          "base_uri": "https://localhost:8080/",
          "height": 34
        },
        "outputId": "b182f70a-4017-4c5b-c75d-c313b8e8dc80"
      },
      "source": [
        "outputs"
      ],
      "execution_count": 24,
      "outputs": [
        {
          "output_type": "execute_result",
          "data": {
            "text/plain": [
              "<tf.Tensor 'rnn/transpose_1:0' shape=(60, 20, 128) dtype=float32>"
            ]
          },
          "metadata": {
            "tags": []
          },
          "execution_count": 24
        }
      ]
    },
    {
      "cell_type": "code",
      "metadata": {
        "button": false,
        "deletable": true,
        "new_sheet": false,
        "run_control": {
          "read_only": false
        },
        "id": "mL_4FxuLwHYB",
        "colab_type": "code",
        "colab": {
          "base_uri": "https://localhost:8080/",
          "height": 247
        },
        "outputId": "d36c0556-326b-4774-9d82-1c4a05a7bcb2"
      },
      "source": [
        "session.run(tf.global_variables_initializer())\n",
        "session.run(outputs[0], feed_dict)"
      ],
      "execution_count": 25,
      "outputs": [
        {
          "output_type": "execute_result",
          "data": {
            "text/plain": [
              "array([[ 1.89014652e-04,  6.24338063e-05, -1.83011405e-04, ...,\n",
              "         5.21714799e-04, -4.03858809e-04, -6.11205935e-04],\n",
              "       [ 4.66717203e-04,  8.82789391e-05, -5.57128340e-04, ...,\n",
              "         5.51000448e-05, -6.81495178e-04, -1.07372558e-04],\n",
              "       [-1.02187725e-04,  6.11734067e-05, -3.13250406e-04, ...,\n",
              "         2.81243556e-04, -6.15389843e-04,  4.15223185e-04],\n",
              "       ...,\n",
              "       [-1.13102185e-04,  2.44498660e-04, -2.07579287e-04, ...,\n",
              "         3.97529744e-04, -4.73932829e-04, -3.16892168e-04],\n",
              "       [-1.27707579e-04,  8.57404259e-04, -5.00869995e-04, ...,\n",
              "         1.07954885e-03, -1.69584499e-04, -9.81558114e-05],\n",
              "       [-2.64178350e-04,  9.81652644e-04, -4.40624979e-04, ...,\n",
              "         1.11289741e-03,  3.45705339e-04, -2.83785066e-05]], dtype=float32)"
            ]
          },
          "metadata": {
            "tags": []
          },
          "execution_count": 25
        }
      ]
    },
    {
      "cell_type": "markdown",
      "metadata": {
        "button": false,
        "deletable": true,
        "new_sheet": false,
        "run_control": {
          "read_only": false
        },
        "id": "nxNOvsOEwHYF",
        "colab_type": "text"
      },
      "source": [
        "we need to flatten the outputs to be able to connect it softmax layer. Lets reshape the output tensor from  [30 x 20 x 200] to [600 x 200].\n",
        "\n",
        "<b>Notice:</b> Imagine our output is 3-d tensor as following (of course each <code>sen_x_word_y</code> is a an embedded vector by itself): \n",
        "<ul>\n",
        "    <li>sentence 1: [[sen1word1], [sen1word2], [sen1word3], ..., [sen1word20]]</li> \n",
        "    <li>sentence 2: [[sen2word1], [sen2word2], [sen2word3], ..., [sen2word20]]</li>   \n",
        "    <li>sentence 3: [[sen3word1], [sen3word2], [sen3word3], ..., [sen3word20]]</li>  \n",
        "    <li>...  </li>\n",
        "    <li>sentence 30: [[sen30word1], [sen30word2], [sen30word3], ..., [sen30word20]]</li>   \n",
        "</ul>\n",
        "Now, the flatten would convert this 3-dim tensor to:\n",
        "\n",
        "[ [sen1word1], [sen1word2], [sen1word3], ..., [sen1word20],[sen2word1], [sen2word2], [sen2word3], ..., [sen2word20], ..., [sen30word20] ]\n"
      ]
    },
    {
      "cell_type": "code",
      "metadata": {
        "button": false,
        "deletable": true,
        "new_sheet": false,
        "run_control": {
          "read_only": false
        },
        "id": "ZOEfzOB6wHYG",
        "colab_type": "code",
        "colab": {
          "base_uri": "https://localhost:8080/",
          "height": 34
        },
        "outputId": "19bc6dfc-b595-41f2-e937-80d72a85edbc"
      },
      "source": [
        "output = tf.reshape(outputs, [-1, hidden_size_l2])\n",
        "output"
      ],
      "execution_count": 26,
      "outputs": [
        {
          "output_type": "execute_result",
          "data": {
            "text/plain": [
              "<tf.Tensor 'Reshape:0' shape=(1200, 128) dtype=float32>"
            ]
          },
          "metadata": {
            "tags": []
          },
          "execution_count": 26
        }
      ]
    },
    {
      "cell_type": "markdown",
      "metadata": {
        "button": false,
        "deletable": true,
        "new_sheet": false,
        "run_control": {
          "read_only": false
        },
        "id": "WZ_PY4CrwHYK",
        "colab_type": "text"
      },
      "source": [
        "<h3>logistic unit</h3>\n",
        "Now, we create a logistic unit to return the probability of the output word in our vocabulary with 1000 words. \n",
        "\n",
        "$$Softmax = [600 \\times 200] * [200 \\times 1000] + [1 \\times 1000] \\Longrightarrow [600 \\times 1000]$$"
      ]
    },
    {
      "cell_type": "code",
      "metadata": {
        "button": false,
        "deletable": true,
        "new_sheet": false,
        "run_control": {
          "read_only": false
        },
        "id": "T-2W5SKcwHYL",
        "colab_type": "code",
        "colab": {
          "base_uri": "https://localhost:8080/",
          "height": 52
        },
        "outputId": "a7616391-82f6-4b37-9363-6faf16ed8161"
      },
      "source": [
        "print(hidden_size_l2,vocab_size)\n",
        "softmax_w = tf.get_variable(\"softmax_w\", [hidden_size_l2, vocab_size]) #[200x1000]\n",
        "softmax_b = tf.get_variable(\"softmax_b\", [vocab_size]) #[1x1000]\n",
        "logits = tf.matmul(output, softmax_w) + softmax_b\n",
        "prob = tf.nn.softmax(logits)\n",
        "prob"
      ],
      "execution_count": 27,
      "outputs": [
        {
          "output_type": "stream",
          "text": [
            "128 10000\n"
          ],
          "name": "stdout"
        },
        {
          "output_type": "execute_result",
          "data": {
            "text/plain": [
              "<tf.Tensor 'Softmax:0' shape=(1200, 10000) dtype=float32>"
            ]
          },
          "metadata": {
            "tags": []
          },
          "execution_count": 27
        }
      ]
    },
    {
      "cell_type": "code",
      "metadata": {
        "id": "hO4ITHm2wHYQ",
        "colab_type": "code",
        "colab": {
          "base_uri": "https://localhost:8080/",
          "height": 34
        },
        "outputId": "51cd6b4e-6948-4123-8454-499f48dcacb5"
      },
      "source": [
        "prob"
      ],
      "execution_count": 28,
      "outputs": [
        {
          "output_type": "execute_result",
          "data": {
            "text/plain": [
              "<tf.Tensor 'Softmax:0' shape=(1200, 10000) dtype=float32>"
            ]
          },
          "metadata": {
            "tags": []
          },
          "execution_count": 28
        }
      ]
    },
    {
      "cell_type": "markdown",
      "metadata": {
        "id": "bNyLJeL9wHYT",
        "colab_type": "text"
      },
      "source": [
        "Lets look at the probability of observing words for t=0 to t=20:"
      ]
    },
    {
      "cell_type": "code",
      "metadata": {
        "button": false,
        "deletable": true,
        "new_sheet": false,
        "run_control": {
          "read_only": false
        },
        "id": "mCf4-3FlwHYU",
        "colab_type": "code",
        "colab": {
          "base_uri": "https://localhost:8080/",
          "height": 265
        },
        "outputId": "9f4df071-7b57-4676-e1ca-80b7432b2810"
      },
      "source": [
        "session.run(tf.global_variables_initializer())\n",
        "output_words_prob = session.run(prob, feed_dict)\n",
        "print(\"shape of the output: \", output_words_prob.shape)\n",
        "print(\"The probability of observing words in t=0 to t=20\", output_words_prob[0:20])"
      ],
      "execution_count": 29,
      "outputs": [
        {
          "output_type": "stream",
          "text": [
            "shape of the output:  (1200, 10000)\n",
            "The probability of observing words in t=0 to t=20 [[1.00343736e-04 1.01348116e-04 1.01141370e-04 ... 1.01634207e-04\n",
            "  9.96030867e-05 1.00519996e-04]\n",
            " [1.00333811e-04 1.01343147e-04 1.01129037e-04 ... 1.01624770e-04\n",
            "  9.96043746e-05 1.00525278e-04]\n",
            " [1.00325240e-04 1.01337253e-04 1.01128295e-04 ... 1.01623737e-04\n",
            "  9.96086601e-05 1.00530146e-04]\n",
            " ...\n",
            " [1.00331708e-04 1.01364021e-04 1.01149730e-04 ... 1.01628859e-04\n",
            "  9.95977898e-05 1.00507226e-04]\n",
            " [1.00332451e-04 1.01360951e-04 1.01145706e-04 ... 1.01636884e-04\n",
            "  9.95943919e-05 1.00509053e-04]\n",
            " [1.00324389e-04 1.01359285e-04 1.01138903e-04 ... 1.01631194e-04\n",
            "  9.95880328e-05 1.00510762e-04]]\n"
          ],
          "name": "stdout"
        }
      ]
    },
    {
      "cell_type": "markdown",
      "metadata": {
        "button": false,
        "deletable": true,
        "new_sheet": false,
        "run_control": {
          "read_only": false
        },
        "id": "wuiJQ3_OwHYY",
        "colab_type": "text"
      },
      "source": [
        "<h3>Prediction</h3>\n",
        "What is the word correspond to the probability output? Lets use the maximum probability:"
      ]
    },
    {
      "cell_type": "code",
      "metadata": {
        "button": false,
        "deletable": true,
        "new_sheet": false,
        "run_control": {
          "read_only": false
        },
        "id": "ndPlVCAwwHYZ",
        "colab_type": "code",
        "colab": {
          "base_uri": "https://localhost:8080/",
          "height": 52
        },
        "outputId": "a6b085ad-756a-4491-c5de-43f1a68858eb"
      },
      "source": [
        "np.argmax(output_words_prob[0:20], axis=1)"
      ],
      "execution_count": 30,
      "outputs": [
        {
          "output_type": "execute_result",
          "data": {
            "text/plain": [
              "array([ 813, 4178, 4178, 4447, 8206, 4490,  528,  528, 9976, 9976,   94,\n",
              "         94, 4178, 4178,   67,   67, 4447, 4447, 4447, 8206])"
            ]
          },
          "metadata": {
            "tags": []
          },
          "execution_count": 30
        }
      ]
    },
    {
      "cell_type": "markdown",
      "metadata": {
        "button": false,
        "deletable": true,
        "new_sheet": false,
        "run_control": {
          "read_only": false
        },
        "id": "QNrHeyu1wHYc",
        "colab_type": "text"
      },
      "source": [
        "So, what is the ground truth for the first word of first sentence? "
      ]
    },
    {
      "cell_type": "code",
      "metadata": {
        "button": false,
        "deletable": true,
        "new_sheet": false,
        "run_control": {
          "read_only": false
        },
        "id": "cwKEJvbXwHYd",
        "colab_type": "code",
        "colab": {
          "base_uri": "https://localhost:8080/",
          "height": 52
        },
        "outputId": "9e526830-403f-4f4d-f19a-54d43ffb70e7"
      },
      "source": [
        "y[0]"
      ],
      "execution_count": 31,
      "outputs": [
        {
          "output_type": "execute_result",
          "data": {
            "text/plain": [
              "array([9971, 9972, 9974, 9975, 9976, 9980, 9981, 9982, 9983, 9984, 9986,\n",
              "       9987, 9988, 9989, 9991, 9992, 9993, 9994, 9995, 9996], dtype=int32)"
            ]
          },
          "metadata": {
            "tags": []
          },
          "execution_count": 31
        }
      ]
    },
    {
      "cell_type": "markdown",
      "metadata": {
        "button": false,
        "deletable": true,
        "new_sheet": false,
        "run_control": {
          "read_only": false
        },
        "id": "lcLvBw84wHYg",
        "colab_type": "text"
      },
      "source": [
        "Also, you can get it from target tensor, if you want to find the embedding vector:"
      ]
    },
    {
      "cell_type": "code",
      "metadata": {
        "button": false,
        "deletable": true,
        "new_sheet": false,
        "run_control": {
          "read_only": false
        },
        "id": "LRx6jX5gwHYi",
        "colab_type": "code",
        "colab": {
          "base_uri": "https://localhost:8080/",
          "height": 52
        },
        "outputId": "a1ec2f11-1eb1-44a4-81e6-f349e0f48ba5"
      },
      "source": [
        "targ = session.run(_targets, feed_dict) \n",
        "targ[0]"
      ],
      "execution_count": 32,
      "outputs": [
        {
          "output_type": "execute_result",
          "data": {
            "text/plain": [
              "array([9971, 9972, 9974, 9975, 9976, 9980, 9981, 9982, 9983, 9984, 9986,\n",
              "       9987, 9988, 9989, 9991, 9992, 9993, 9994, 9995, 9996], dtype=int32)"
            ]
          },
          "metadata": {
            "tags": []
          },
          "execution_count": 32
        }
      ]
    },
    {
      "cell_type": "markdown",
      "metadata": {
        "id": "ozaC3CbVwHYn",
        "colab_type": "text"
      },
      "source": [
        "How similar the predicted words are to the target words?"
      ]
    },
    {
      "cell_type": "markdown",
      "metadata": {
        "button": false,
        "deletable": true,
        "new_sheet": false,
        "run_control": {
          "read_only": false
        },
        "id": "zQd8m1y_wHYo",
        "colab_type": "text"
      },
      "source": [
        "<h4>Objective function</h4>\n",
        "\n",
        "Now we have to define our objective function, to calculate the similarity of predicted values to ground truth, and then, penalize the model with the error. Our objective is to minimize loss function, that is, to minimize the average negative log probability of the target words:\n",
        "\n",
        "$$\\text{loss} = -\\frac{1}{N}\\sum_{i=1}^{N} \\ln p_{\\text{target}_i}$$\n",
        "\n",
        "This function is already implemented and available in TensorFlow through <b>sequence_loss_by_example</b>. It calculates the weighted cross-entropy loss for <b>logits</b> and the <b>target</b> sequence.  \n",
        "\n",
        "The arguments of this function are:  \n",
        "<ul>\n",
        "    <li>logits: List of 2D Tensors of shape [batch_size x num_decoder_symbols].</li>  \n",
        "    <li>targets: List of 1D batch-sized int32 Tensors of the same length as logits.</li>   \n",
        "    <li>weights: List of 1D batch-sized float-Tensors of the same length as logits.</li> \n",
        "</ul>"
      ]
    },
    {
      "cell_type": "code",
      "metadata": {
        "button": false,
        "deletable": true,
        "new_sheet": false,
        "run_control": {
          "read_only": false
        },
        "id": "1De2FWiZwHYp",
        "colab_type": "code",
        "colab": {}
      },
      "source": [
        "loss = tf.contrib.legacy_seq2seq.sequence_loss_by_example([logits], [tf.reshape(_targets, [-1])],[tf.ones([batch_size * num_steps])])"
      ],
      "execution_count": 0,
      "outputs": []
    },
    {
      "cell_type": "markdown",
      "metadata": {
        "button": false,
        "deletable": true,
        "new_sheet": false,
        "run_control": {
          "read_only": false
        },
        "id": "ATUsWOHQwHYy",
        "colab_type": "text"
      },
      "source": [
        "loss is a 1D batch-sized float Tensor [600x1]: The log-perplexity for each sequence. Lets look at the first 10 values of loss:"
      ]
    },
    {
      "cell_type": "code",
      "metadata": {
        "button": false,
        "deletable": true,
        "new_sheet": false,
        "run_control": {
          "read_only": false
        },
        "id": "DQjAadfiwHYz",
        "colab_type": "code",
        "colab": {
          "base_uri": "https://localhost:8080/",
          "height": 52
        },
        "outputId": "3e2a573b-23c0-4a0d-de48-b01db9f5b38e"
      },
      "source": [
        "session.run(loss, feed_dict)[:10]"
      ],
      "execution_count": 34,
      "outputs": [
        {
          "output_type": "execute_result",
          "data": {
            "text/plain": [
              "array([9.223576 , 9.195397 , 9.21873  , 9.195501 , 9.1929455, 9.200546 ,\n",
              "       9.195034 , 9.224093 , 9.209061 , 9.211221 ], dtype=float32)"
            ]
          },
          "metadata": {
            "tags": []
          },
          "execution_count": 34
        }
      ]
    },
    {
      "cell_type": "markdown",
      "metadata": {
        "id": "SSifmK1DwHY3",
        "colab_type": "text"
      },
      "source": [
        "Now, we define loss as average of the losses:"
      ]
    },
    {
      "cell_type": "code",
      "metadata": {
        "button": false,
        "deletable": true,
        "new_sheet": false,
        "run_control": {
          "read_only": false
        },
        "id": "QB-rVnoCwHY4",
        "colab_type": "code",
        "colab": {
          "base_uri": "https://localhost:8080/",
          "height": 34
        },
        "outputId": "ec8b38d5-ca43-4c39-f117-d44a699a7064"
      },
      "source": [
        "cost = tf.reduce_sum(loss) / batch_size\n",
        "session.run(tf.global_variables_initializer())\n",
        "session.run(cost, feed_dict)\n"
      ],
      "execution_count": 35,
      "outputs": [
        {
          "output_type": "execute_result",
          "data": {
            "text/plain": [
              "184.19879"
            ]
          },
          "metadata": {
            "tags": []
          },
          "execution_count": 35
        }
      ]
    },
    {
      "cell_type": "markdown",
      "metadata": {
        "button": false,
        "deletable": true,
        "new_sheet": false,
        "run_control": {
          "read_only": false
        },
        "id": "RrHfwYMHwHY8",
        "colab_type": "text"
      },
      "source": [
        "<h3>Training</h3>\n",
        "\n",
        "To do training for our network, we have to take the following steps:\n",
        "<ol>\n",
        "    <li>Define the optimizer.</li>\n",
        "    <li>Extract variables that are trainable.</li>\n",
        "    <li>Calculate the gradients based on the loss function.</li>\n",
        "    <li>Apply the optimizer to the variables/gradients tuple.</li>\n",
        "</ol>"
      ]
    },
    {
      "cell_type": "markdown",
      "metadata": {
        "button": false,
        "deletable": true,
        "new_sheet": false,
        "run_control": {
          "read_only": false
        },
        "id": "0W0l9iOVwHY9",
        "colab_type": "text"
      },
      "source": [
        "<h4>1. Define Optimizer</h4>\n",
        "\n",
        "<b>GradientDescentOptimizer</b> constructs a new gradient descent optimizer. Later, we use constructed <b>optimizer</b> to compute gradients for a loss and apply gradients to variables."
      ]
    },
    {
      "cell_type": "code",
      "metadata": {
        "button": false,
        "deletable": true,
        "new_sheet": false,
        "run_control": {
          "read_only": false
        },
        "id": "X_f6ePdewHY-",
        "colab_type": "code",
        "colab": {}
      },
      "source": [
        "# Create a variable for the learning rate\n",
        "lr = tf.Variable(0.0, trainable=False)\n",
        "# Create the gradient descent optimizer with our learning rate\n",
        "optimizer = tf.train.GradientDescentOptimizer(lr)"
      ],
      "execution_count": 0,
      "outputs": []
    },
    {
      "cell_type": "markdown",
      "metadata": {
        "button": false,
        "deletable": true,
        "new_sheet": false,
        "run_control": {
          "read_only": false
        },
        "id": "sgY3JAINwHZC",
        "colab_type": "text"
      },
      "source": [
        "\n",
        "<h4>2. Trainable Variables</h4>"
      ]
    },
    {
      "cell_type": "markdown",
      "metadata": {
        "button": false,
        "deletable": true,
        "new_sheet": false,
        "run_control": {
          "read_only": false
        },
        "id": "vFuluOE1wHZH",
        "colab_type": "text"
      },
      "source": [
        "Defining a variable, if you passed <i>trainable=True</i>, the variable constructor automatically adds new variables to the graph collection <b>GraphKeys.TRAINABLE_VARIABLES</b>. Now, using <i>tf.trainable_variables()</i> you can get all variables created with <b>trainable=True</b>."
      ]
    },
    {
      "cell_type": "code",
      "metadata": {
        "button": false,
        "deletable": true,
        "new_sheet": false,
        "run_control": {
          "read_only": false
        },
        "id": "CNhc9I0qwHZK",
        "colab_type": "code",
        "colab": {
          "base_uri": "https://localhost:8080/",
          "height": 141
        },
        "outputId": "f3cb8c85-6796-42e2-f522-2caa29511cc3"
      },
      "source": [
        "# Get all TensorFlow variables marked as \"trainable\" (i.e. all of them except _lr, which we just created)\n",
        "tvars = tf.trainable_variables()\n",
        "tvars"
      ],
      "execution_count": 37,
      "outputs": [
        {
          "output_type": "execute_result",
          "data": {
            "text/plain": [
              "[<tf.Variable 'embedding_vocab:0' shape=(10000, 200) dtype=float32_ref>,\n",
              " <tf.Variable 'rnn/multi_rnn_cell/cell_0/basic_lstm_cell/kernel:0' shape=(456, 1024) dtype=float32_ref>,\n",
              " <tf.Variable 'rnn/multi_rnn_cell/cell_0/basic_lstm_cell/bias:0' shape=(1024,) dtype=float32_ref>,\n",
              " <tf.Variable 'rnn/multi_rnn_cell/cell_1/basic_lstm_cell/kernel:0' shape=(384, 512) dtype=float32_ref>,\n",
              " <tf.Variable 'rnn/multi_rnn_cell/cell_1/basic_lstm_cell/bias:0' shape=(512,) dtype=float32_ref>,\n",
              " <tf.Variable 'softmax_w:0' shape=(128, 10000) dtype=float32_ref>,\n",
              " <tf.Variable 'softmax_b:0' shape=(10000,) dtype=float32_ref>]"
            ]
          },
          "metadata": {
            "tags": []
          },
          "execution_count": 37
        }
      ]
    },
    {
      "cell_type": "markdown",
      "metadata": {
        "button": false,
        "deletable": true,
        "new_sheet": false,
        "run_control": {
          "read_only": false
        },
        "id": "2JOhiexfwHZS",
        "colab_type": "text"
      },
      "source": [
        "Note: we can find the name and scope of all variables:"
      ]
    },
    {
      "cell_type": "code",
      "metadata": {
        "button": false,
        "deletable": true,
        "new_sheet": false,
        "run_control": {
          "read_only": false
        },
        "id": "mj631gVcwHZT",
        "colab_type": "code",
        "colab": {
          "base_uri": "https://localhost:8080/",
          "height": 141
        },
        "outputId": "c8b53351-7047-46fd-c4b0-b098df26b20b"
      },
      "source": [
        "[v.name for v in tvars]"
      ],
      "execution_count": 38,
      "outputs": [
        {
          "output_type": "execute_result",
          "data": {
            "text/plain": [
              "['embedding_vocab:0',\n",
              " 'rnn/multi_rnn_cell/cell_0/basic_lstm_cell/kernel:0',\n",
              " 'rnn/multi_rnn_cell/cell_0/basic_lstm_cell/bias:0',\n",
              " 'rnn/multi_rnn_cell/cell_1/basic_lstm_cell/kernel:0',\n",
              " 'rnn/multi_rnn_cell/cell_1/basic_lstm_cell/bias:0',\n",
              " 'softmax_w:0',\n",
              " 'softmax_b:0']"
            ]
          },
          "metadata": {
            "tags": []
          },
          "execution_count": 38
        }
      ]
    },
    {
      "cell_type": "markdown",
      "metadata": {
        "button": false,
        "deletable": true,
        "new_sheet": false,
        "run_control": {
          "read_only": false
        },
        "id": "3baxC8e6wHZa",
        "colab_type": "text"
      },
      "source": [
        "<h4>3. Calculate the gradients based on the loss function</h4>"
      ]
    },
    {
      "cell_type": "markdown",
      "metadata": {
        "button": false,
        "deletable": true,
        "new_sheet": false,
        "run_control": {
          "read_only": false
        },
        "id": "34FOUoRWwHZb",
        "colab_type": "text"
      },
      "source": [
        "<h4>Gradient</h4>:\n",
        "The gradient of a function is the slope of its derivative (line), or in other words, the rate of change of a function. It's a vector (a direction to move) that points in the direction of greatest increase of the function, and calculated by the <b>derivative</b> operation.\n",
        "\n",
        "First lets recall the gradient function using an toy example:\n",
        "$$ z = \\left(2x^2 + 3xy\\right)$$"
      ]
    },
    {
      "cell_type": "code",
      "metadata": {
        "button": false,
        "deletable": true,
        "new_sheet": false,
        "run_control": {
          "read_only": false
        },
        "id": "0GOtrRvJwHZc",
        "colab_type": "code",
        "colab": {
          "base_uri": "https://localhost:8080/",
          "height": 34
        },
        "outputId": "0e15d5f1-7928-4971-a7f0-9ddf0d567b10"
      },
      "source": [
        "var_x = tf.placeholder(tf.float32)\n",
        "var_y = tf.placeholder(tf.float32) \n",
        "func_test = 2.0 * var_x * var_x + 3.0 * var_x * var_y\n",
        "session.run(tf.global_variables_initializer())\n",
        "session.run(func_test, {var_x:1.0,var_y:2.0})"
      ],
      "execution_count": 39,
      "outputs": [
        {
          "output_type": "execute_result",
          "data": {
            "text/plain": [
              "8.0"
            ]
          },
          "metadata": {
            "tags": []
          },
          "execution_count": 39
        }
      ]
    },
    {
      "cell_type": "markdown",
      "metadata": {
        "button": false,
        "deletable": true,
        "new_sheet": false,
        "run_control": {
          "read_only": false
        },
        "id": "PL-gosrqwHZg",
        "colab_type": "text"
      },
      "source": [
        "The <b>tf.gradients()</b> function allows you to compute the symbolic gradient of one tensor with respect to one or more other tensors—including variables. <b>tf.gradients(func, xs)</b> constructs symbolic partial derivatives of sum of <b>func</b> w.r.t. <i>x</i> in <b>xs</b>. \n",
        "\n",
        "Now, lets look at the derivitive w.r.t. <b>var_x</b>:\n",
        "$$ \\frac{\\partial \\:}{\\partial \\:x}\\left(2x^2 + 3xy\\right) = 4x + 3y $$\n"
      ]
    },
    {
      "cell_type": "code",
      "metadata": {
        "button": false,
        "deletable": true,
        "new_sheet": false,
        "run_control": {
          "read_only": false
        },
        "id": "Fk8d96FbwHZh",
        "colab_type": "code",
        "colab": {
          "base_uri": "https://localhost:8080/",
          "height": 34
        },
        "outputId": "1a5eef07-4e1e-4a97-cced-fa9a070d9e05"
      },
      "source": [
        "var_grad = tf.gradients(func_test, [var_x])\n",
        "session.run(var_grad, {var_x:1.0,var_y:2.0})"
      ],
      "execution_count": 40,
      "outputs": [
        {
          "output_type": "execute_result",
          "data": {
            "text/plain": [
              "[10.0]"
            ]
          },
          "metadata": {
            "tags": []
          },
          "execution_count": 40
        }
      ]
    },
    {
      "cell_type": "markdown",
      "metadata": {
        "button": false,
        "deletable": true,
        "new_sheet": false,
        "run_control": {
          "read_only": false
        },
        "id": "A2X9TqtXwHZm",
        "colab_type": "text"
      },
      "source": [
        "the derivative w.r.t. <b>var_y</b>:\n",
        "$$ \\frac{\\partial \\:}{\\partial \\:x}\\left(2x^2 + 3xy\\right) = 3x $$"
      ]
    },
    {
      "cell_type": "code",
      "metadata": {
        "button": false,
        "deletable": true,
        "new_sheet": false,
        "run_control": {
          "read_only": false
        },
        "id": "5C1FVzI8wHZn",
        "colab_type": "code",
        "colab": {
          "base_uri": "https://localhost:8080/",
          "height": 34
        },
        "outputId": "0de3c9b8-812b-4e91-e1eb-222f4fd2efb6"
      },
      "source": [
        "var_grad = tf.gradients(func_test, [var_y])\n",
        "session.run(var_grad, {var_x:1.0, var_y:2.0})"
      ],
      "execution_count": 41,
      "outputs": [
        {
          "output_type": "execute_result",
          "data": {
            "text/plain": [
              "[3.0]"
            ]
          },
          "metadata": {
            "tags": []
          },
          "execution_count": 41
        }
      ]
    },
    {
      "cell_type": "markdown",
      "metadata": {
        "button": false,
        "deletable": true,
        "new_sheet": false,
        "run_control": {
          "read_only": false
        },
        "id": "QponjmGwwHZq",
        "colab_type": "text"
      },
      "source": [
        "Now, we can look at gradients w.r.t all variables:"
      ]
    },
    {
      "cell_type": "code",
      "metadata": {
        "button": false,
        "deletable": true,
        "new_sheet": false,
        "run_control": {
          "read_only": false
        },
        "id": "gC3voK5vwHZs",
        "colab_type": "code",
        "colab": {
          "base_uri": "https://localhost:8080/",
          "height": 141
        },
        "outputId": "1b38908b-b221-40df-9bea-958e83a51b92"
      },
      "source": [
        "tf.gradients(cost, tvars)"
      ],
      "execution_count": 42,
      "outputs": [
        {
          "output_type": "execute_result",
          "data": {
            "text/plain": [
              "[<tensorflow.python.framework.ops.IndexedSlices at 0x7fc9bfb6f2b0>,\n",
              " <tf.Tensor 'gradients_2/rnn/while/rnn/multi_rnn_cell/cell_0/basic_lstm_cell/MatMul/Enter_grad/b_acc_3:0' shape=(456, 1024) dtype=float32>,\n",
              " <tf.Tensor 'gradients_2/rnn/while/rnn/multi_rnn_cell/cell_0/basic_lstm_cell/BiasAdd/Enter_grad/b_acc_3:0' shape=(1024,) dtype=float32>,\n",
              " <tf.Tensor 'gradients_2/rnn/while/rnn/multi_rnn_cell/cell_1/basic_lstm_cell/MatMul/Enter_grad/b_acc_3:0' shape=(384, 512) dtype=float32>,\n",
              " <tf.Tensor 'gradients_2/rnn/while/rnn/multi_rnn_cell/cell_1/basic_lstm_cell/BiasAdd/Enter_grad/b_acc_3:0' shape=(512,) dtype=float32>,\n",
              " <tf.Tensor 'gradients_2/MatMul_grad/MatMul_1:0' shape=(128, 10000) dtype=float32>,\n",
              " <tf.Tensor 'gradients_2/add_grad/Reshape_1:0' shape=(10000,) dtype=float32>]"
            ]
          },
          "metadata": {
            "tags": []
          },
          "execution_count": 42
        }
      ]
    },
    {
      "cell_type": "code",
      "metadata": {
        "button": false,
        "deletable": true,
        "new_sheet": false,
        "run_control": {
          "read_only": false
        },
        "scrolled": true,
        "id": "cLVOlh_MwHZv",
        "colab_type": "code",
        "colab": {}
      },
      "source": [
        "grad_t_list = tf.gradients(cost, tvars)\n",
        "#sess.run(grad_t_list,feed_dict)"
      ],
      "execution_count": 0,
      "outputs": []
    },
    {
      "cell_type": "markdown",
      "metadata": {
        "button": false,
        "deletable": true,
        "new_sheet": false,
        "run_control": {
          "read_only": false
        },
        "id": "An8w46NlwHZy",
        "colab_type": "text"
      },
      "source": [
        "\n",
        "\n",
        "\n",
        "now, we have a list of tensors, t-list. We can use it to find clipped tensors. <b>clip_by_global_norm</b> clips values of multiple tensors by the ratio of the sum of their norms.\n",
        "\n",
        "<b>clip_by_global_norm</b> get <i>t-list</i> as input and returns 2 things:\n",
        "<ul>\n",
        "    <li>a list of clipped tensors, so called <i>list_clipped</i></li> \n",
        "    <li>the global norm (global_norm) of all tensors in t_list</li> \n",
        "</ul>"
      ]
    },
    {
      "cell_type": "code",
      "metadata": {
        "button": false,
        "deletable": true,
        "new_sheet": false,
        "run_control": {
          "read_only": false
        },
        "id": "KsS4xhUOwHZ2",
        "colab_type": "code",
        "colab": {
          "base_uri": "https://localhost:8080/",
          "height": 214
        },
        "outputId": "efbef1f2-9792-4639-d048-eef34d4c558a"
      },
      "source": [
        "# Define the gradient clipping threshold\n",
        "grads, _ = tf.clip_by_global_norm(grad_t_list, max_grad_norm)\n",
        "grads"
      ],
      "execution_count": 44,
      "outputs": [
        {
          "output_type": "stream",
          "text": [
            "W0821 10:39:36.024190 140505534711680 deprecation.py:323] From /usr/local/lib/python3.6/dist-packages/tensorflow/python/ops/clip_ops.py:286: add_dispatch_support.<locals>.wrapper (from tensorflow.python.ops.array_ops) is deprecated and will be removed in a future version.\n",
            "Instructions for updating:\n",
            "Use tf.where in 2.0, which has the same broadcast rule as np.where\n"
          ],
          "name": "stderr"
        },
        {
          "output_type": "execute_result",
          "data": {
            "text/plain": [
              "[<tensorflow.python.framework.ops.IndexedSlices at 0x7fc9bfb13ef0>,\n",
              " <tf.Tensor 'clip_by_global_norm/clip_by_global_norm/_1:0' shape=(456, 1024) dtype=float32>,\n",
              " <tf.Tensor 'clip_by_global_norm/clip_by_global_norm/_2:0' shape=(1024,) dtype=float32>,\n",
              " <tf.Tensor 'clip_by_global_norm/clip_by_global_norm/_3:0' shape=(384, 512) dtype=float32>,\n",
              " <tf.Tensor 'clip_by_global_norm/clip_by_global_norm/_4:0' shape=(512,) dtype=float32>,\n",
              " <tf.Tensor 'clip_by_global_norm/clip_by_global_norm/_5:0' shape=(128, 10000) dtype=float32>,\n",
              " <tf.Tensor 'clip_by_global_norm/clip_by_global_norm/_6:0' shape=(10000,) dtype=float32>]"
            ]
          },
          "metadata": {
            "tags": []
          },
          "execution_count": 44
        }
      ]
    },
    {
      "cell_type": "code",
      "metadata": {
        "button": false,
        "deletable": true,
        "new_sheet": false,
        "run_control": {
          "read_only": false
        },
        "id": "WTdPd3PqwHZ5",
        "colab_type": "code",
        "colab": {
          "base_uri": "https://localhost:8080/",
          "height": 1000
        },
        "outputId": "041abc4d-2ea8-45de-ef2b-ce07b925d9a8"
      },
      "source": [
        "session.run(grads, feed_dict)"
      ],
      "execution_count": 45,
      "outputs": [
        {
          "output_type": "execute_result",
          "data": {
            "text/plain": [
              "[IndexedSlicesValue(values=array([[-3.18106217e-08,  7.97095799e-06, -4.04117100e-06, ...,\n",
              "         1.73331227e-05, -1.02153735e-05,  1.27601916e-05],\n",
              "       [-2.26914494e-07,  1.32281175e-05, -5.00550186e-06, ...,\n",
              "         1.13799651e-05, -6.12032272e-06,  4.93873404e-06],\n",
              "       [-4.76075911e-06,  1.94960994e-05, -8.50057006e-07, ...,\n",
              "         2.12705868e-06, -8.13583938e-06, -1.86304896e-06],\n",
              "       ...,\n",
              "       [ 1.02959802e-06,  1.07076557e-05,  8.49741082e-06, ...,\n",
              "         3.54400140e-06, -4.04202501e-06,  8.18664921e-06],\n",
              "       [ 2.16398576e-06,  6.46165199e-06,  1.05360687e-05, ...,\n",
              "         1.08113250e-06, -4.12176996e-06,  8.71524026e-06],\n",
              "       [ 1.71556360e-06,  3.46835554e-06,  6.28005409e-06, ...,\n",
              "        -7.93513550e-07, -8.14522718e-06,  8.35272385e-06]], dtype=float32), indices=array([9970, 9971, 9972, ..., 2043,   23,    1], dtype=int32), dense_shape=array([10000,   200], dtype=int32)),\n",
              " array([[ 5.6957066e-09, -2.9633362e-09,  1.0807023e-08, ...,\n",
              "          1.6122227e-08,  1.3934045e-08,  3.3843619e-08],\n",
              "        [-3.7559296e-08, -9.3152430e-08,  2.6318171e-08, ...,\n",
              "          2.6668032e-09, -1.5052835e-08,  3.8705402e-08],\n",
              "        [-1.5554740e-08,  7.4302399e-08,  1.5493356e-08, ...,\n",
              "          3.2750453e-08,  2.3009489e-08,  3.7654747e-08],\n",
              "        ...,\n",
              "        [-6.8677031e-10,  2.0786630e-09,  5.0767550e-09, ...,\n",
              "         -1.4389506e-08, -1.0454967e-09,  4.3327573e-09],\n",
              "        [-5.4254234e-10, -2.2424673e-09,  5.9037490e-09, ...,\n",
              "          1.8126182e-09, -9.2258485e-09,  5.1167102e-09],\n",
              "        [ 2.0805435e-09, -9.5986263e-10,  2.3542506e-09, ...,\n",
              "          3.1853302e-09,  4.9387965e-09, -2.8253244e-10]], dtype=float32),\n",
              " array([-1.0859992e-06, -1.1448677e-06, -5.0232898e-06, ...,\n",
              "        -6.2259613e-07,  1.6329391e-06,  1.5142283e-06], dtype=float32),\n",
              " array([[ 1.8894077e-09, -1.9256348e-09,  5.5243383e-09, ...,\n",
              "          9.2892503e-09,  2.7749825e-09,  4.0419761e-09],\n",
              "        [ 1.2935398e-09, -2.5795235e-09, -2.7966389e-09, ...,\n",
              "          5.7388194e-10,  1.6069158e-09, -4.8919313e-11],\n",
              "        [-8.9681791e-09,  2.1046365e-10, -7.6852267e-09, ...,\n",
              "          1.4650292e-09, -1.0239348e-09, -5.6334306e-09],\n",
              "        ...,\n",
              "        [-6.1494848e-10, -1.3197037e-09, -5.5006116e-10, ...,\n",
              "         -6.1052041e-10, -1.7624986e-09, -3.7823741e-10],\n",
              "        [-6.0754501e-10, -4.3814011e-10,  4.1607442e-09, ...,\n",
              "         -2.1757109e-09,  3.4110972e-09,  1.3575874e-09],\n",
              "        [ 7.5439388e-10,  1.4114873e-09, -2.1510489e-09, ...,\n",
              "          1.6497025e-10, -2.4874045e-09, -8.4226492e-09]], dtype=float32),\n",
              " array([ 5.25827204e-09, -3.92666743e-06, -5.87197633e-07, -3.78177288e-06,\n",
              "        -2.61834384e-06, -2.79109145e-06, -5.68992391e-06, -1.63779205e-07,\n",
              "        -1.18670670e-07,  2.32201364e-06,  2.54651309e-06,  1.51845632e-06,\n",
              "         7.05001128e-07,  3.36281164e-06,  2.41870168e-08,  3.20062281e-06,\n",
              "        -6.09717745e-06,  7.79926950e-07, -9.60769171e-08,  4.91670971e-06,\n",
              "         6.51564733e-07,  2.99670637e-06, -2.11050792e-06, -4.31076069e-06,\n",
              "        -2.23732329e-07,  7.74352600e-07, -5.36877110e-07, -3.87237196e-06,\n",
              "         9.81548055e-07,  3.11584949e-06, -3.39928852e-06,  2.35985567e-06,\n",
              "        -1.83667657e-06,  2.76843502e-06,  1.34789059e-06,  3.36616267e-06,\n",
              "         2.17837487e-06,  8.50919491e-07, -2.64905793e-07, -1.20348363e-06,\n",
              "        -4.74904573e-06, -4.96181246e-06, -7.58260239e-06,  3.55147449e-07,\n",
              "         6.19423736e-06, -6.22636981e-06, -1.77334414e-08, -5.18231332e-07,\n",
              "         3.99528835e-06, -4.07920970e-06,  7.13438021e-06,  1.09940356e-06,\n",
              "         1.99774399e-06,  5.86809119e-06, -2.82938163e-06, -1.36067047e-06,\n",
              "        -3.07764572e-06, -1.43621708e-06, -3.49494007e-06, -2.36454696e-07,\n",
              "        -3.58259831e-06,  6.38489581e-08, -1.13347767e-06,  4.38454663e-06,\n",
              "         1.19175741e-06, -4.24703188e-08,  3.66551944e-06, -2.39889528e-06,\n",
              "         7.72809472e-06,  2.63919560e-06, -1.46998389e-07,  2.51123197e-07,\n",
              "         2.96663347e-06,  1.35238292e-06, -1.82738449e-06, -4.28799285e-06,\n",
              "        -1.54468853e-06,  2.20664606e-06,  1.54314000e-06,  8.93527522e-06,\n",
              "        -9.43542818e-06, -1.62881997e-06, -9.73509941e-07,  2.02738102e-06,\n",
              "         7.49053640e-07, -3.81921291e-06,  2.41486032e-06, -5.93541472e-07,\n",
              "        -5.34863716e-07,  4.97200836e-06,  8.80867265e-06,  1.27144074e-06,\n",
              "         3.85168914e-06, -2.07225617e-06,  4.10911639e-07, -6.32339606e-06,\n",
              "        -5.01734758e-06, -5.32415606e-06, -5.71663350e-06, -4.47218918e-06,\n",
              "         2.84316798e-07, -1.49152051e-08, -1.21947551e-06,  4.65163203e-06,\n",
              "         1.69279758e-06,  3.43585111e-06, -1.12877444e-06, -2.88423803e-06,\n",
              "        -4.05015726e-06,  1.95030179e-06,  2.33857165e-07, -2.57296415e-06,\n",
              "         1.16031595e-06, -1.49239418e-06,  4.17996216e-06,  2.04351545e-06,\n",
              "         2.45766205e-06, -5.31737442e-06,  2.82304745e-06,  4.13720545e-06,\n",
              "        -2.33912260e-06, -1.11056306e-06,  1.27769340e-06,  1.70042779e-06,\n",
              "         1.28002248e-05, -2.48078686e-06,  1.65358460e-06, -5.18602383e-06,\n",
              "         4.71990975e-03,  4.35453281e-03,  2.28642821e-02, -1.24829868e-02,\n",
              "        -1.97173413e-02, -2.91156061e-02, -1.99293066e-02,  2.51311157e-03,\n",
              "        -4.97666700e-03, -9.95021779e-03, -1.74685698e-02, -1.06526958e-02,\n",
              "         1.17497733e-02,  1.94267032e-03,  1.33604649e-03,  1.27163520e-02,\n",
              "        -8.48721713e-03, -7.98376184e-03,  4.91176732e-03, -3.08519751e-02,\n",
              "         5.89933712e-03, -7.22338911e-04,  2.36607492e-02, -8.17657169e-03,\n",
              "        -3.52031216e-02,  2.46130470e-02, -1.16233025e-02,  5.09126186e-02,\n",
              "        -2.77747586e-03,  9.43116378e-03, -4.32082452e-03,  3.18595916e-02,\n",
              "        -3.56326369e-03,  1.21844113e-02,  2.11233459e-02, -9.92654823e-03,\n",
              "         2.27619894e-02, -3.63642233e-03,  1.49837872e-02, -8.32403917e-03,\n",
              "        -3.35708931e-02, -3.01999338e-02, -3.53409089e-02, -1.32586025e-02,\n",
              "        -2.70576645e-02, -1.22361258e-02, -6.53321971e-04,  1.56812835e-03,\n",
              "         4.80307778e-03,  1.82744060e-02, -2.68069282e-02, -5.70369093e-03,\n",
              "        -1.64502524e-02, -6.04124693e-03, -5.71165074e-05, -1.52438330e-02,\n",
              "        -1.23115610e-02, -3.38521414e-03, -2.90339850e-02, -9.21213301e-04,\n",
              "         4.39322670e-04,  1.42705324e-03,  1.32491477e-02,  5.21071348e-03,\n",
              "         1.04704732e-03, -4.36191028e-03, -2.32160613e-02,  9.11226589e-03,\n",
              "        -3.04024164e-02, -6.78749010e-03,  4.72767837e-03,  1.31035009e-02,\n",
              "         4.31831647e-03,  4.16255696e-03,  1.45732611e-03, -5.27621573e-03,\n",
              "         5.21193072e-03,  1.25303622e-02,  6.95987325e-03,  1.07670110e-02,\n",
              "         1.95960440e-02,  1.25791775e-02,  4.36433218e-03, -2.27244059e-03,\n",
              "         1.02292337e-02, -1.64417252e-02, -1.29649891e-02, -2.01303512e-02,\n",
              "         1.88380834e-02, -1.15578882e-02, -6.33144751e-04, -1.71310105e-03,\n",
              "         3.26261446e-02,  4.27585514e-03, -3.96988774e-03, -9.33232903e-03,\n",
              "        -2.50148643e-02,  3.11242770e-02,  1.74770206e-02, -2.41392888e-02,\n",
              "         3.08284303e-03, -6.60950178e-03, -3.31545714e-03,  1.04421191e-02,\n",
              "        -5.82367135e-03, -2.51151789e-02,  1.30404318e-02,  1.31881866e-03,\n",
              "         9.24374070e-03,  1.25798518e-02, -2.52810735e-02, -3.76608525e-03,\n",
              "         1.78054196e-03,  1.68230440e-02,  1.73773654e-02, -2.35247519e-02,\n",
              "         9.25615430e-03,  5.88360999e-05,  1.86785422e-02,  2.32904311e-02,\n",
              "         9.71158408e-03,  1.05301328e-02,  5.03334356e-03, -1.60717336e-03,\n",
              "         1.28761614e-02,  2.64632097e-03,  6.17345609e-03, -1.05582923e-02,\n",
              "         5.50276127e-07,  4.71267185e-07,  1.04998605e-06, -1.82694077e-06,\n",
              "        -1.07513222e-06,  8.45504019e-07, -4.51393907e-06, -8.23829623e-07,\n",
              "         1.52245468e-06,  1.57808381e-06,  1.05040385e-06, -2.46278387e-06,\n",
              "        -5.54144754e-06,  3.43012562e-06, -2.39392830e-06,  9.69134021e-07,\n",
              "        -3.24562757e-06, -1.13334480e-08, -5.91958155e-07,  5.04505897e-06,\n",
              "        -1.24243655e-08,  1.39073131e-06,  1.97918348e-06, -3.31351112e-06,\n",
              "        -3.63316559e-08, -3.72201072e-07, -2.32559842e-06, -3.98494649e-06,\n",
              "         1.62020194e-06,  2.41171165e-06, -3.95799725e-06,  1.79086248e-06,\n",
              "        -6.33533318e-07,  5.17064063e-06,  8.95515484e-08,  7.24346933e-07,\n",
              "         3.48273079e-06,  2.38572852e-07,  1.22331335e-06,  1.35740009e-07,\n",
              "        -5.15192369e-06, -5.37518554e-06, -7.50321033e-06,  5.18328704e-07,\n",
              "         6.12382473e-06, -3.75944683e-06, -5.55726274e-07, -1.39765166e-06,\n",
              "         3.29780914e-06, -3.67440407e-06,  4.58991872e-06, -1.20526329e-06,\n",
              "         2.80335621e-06,  2.44170110e-06, -5.29979934e-06, -7.97523626e-07,\n",
              "        -1.84572116e-06, -1.95774828e-06, -2.41080443e-06,  1.10827114e-06,\n",
              "        -1.66824336e-07, -2.12617442e-06,  3.50571440e-07,  3.21679886e-06,\n",
              "         1.54689451e-06, -9.33624790e-07,  4.06651634e-06, -2.53032158e-06,\n",
              "         5.12553470e-06,  1.70687667e-06, -1.06138295e-07,  6.81936854e-07,\n",
              "         4.12491136e-06,  4.37108338e-06, -2.92582672e-06, -3.68425481e-06,\n",
              "        -3.10126575e-06,  1.64445896e-06,  1.39386316e-06,  6.08823893e-06,\n",
              "        -4.49576009e-06, -4.15797376e-06,  3.48979171e-07,  2.84509440e-07,\n",
              "        -3.75926362e-07, -3.22442065e-06,  3.58813031e-06, -1.07459236e-07,\n",
              "        -1.76004335e-06,  5.19644391e-06,  1.61595938e-06,  3.92555285e-06,\n",
              "         3.65234769e-06, -1.26610507e-06,  1.49423840e-06, -5.03082902e-06,\n",
              "        -2.88426031e-06, -4.40337089e-06, -3.79736139e-06,  2.07163225e-07,\n",
              "        -1.63289783e-07,  1.87223759e-06, -1.68657948e-06,  7.36290644e-07,\n",
              "        -5.29867577e-07,  1.57646343e-06, -1.82202132e-06, -1.59368187e-06,\n",
              "        -5.93422953e-07,  7.14890177e-07, -2.17288652e-06, -7.33999400e-07,\n",
              "        -2.25634813e-06, -1.37656730e-06,  3.53954306e-06,  3.01780528e-06,\n",
              "         3.26465261e-06, -9.64262426e-07,  3.20542972e-06,  1.28467627e-06,\n",
              "        -5.91126536e-07, -2.43366435e-06,  8.96045549e-07,  4.02342266e-07,\n",
              "         8.70158055e-06, -5.30973784e-06,  2.75464959e-06, -1.51264976e-06,\n",
              "         3.01908898e-09, -3.92542415e-06, -5.86928707e-07, -3.78322284e-06,\n",
              "        -2.61874447e-06, -2.79220285e-06, -5.69392205e-06, -1.60483069e-07,\n",
              "        -1.20481587e-07,  2.32288289e-06,  2.54489964e-06,  1.52126711e-06,\n",
              "         7.05001071e-07,  3.36051221e-06,  2.47946730e-08,  3.20055642e-06,\n",
              "        -6.09650078e-06,  7.76404192e-07, -9.57464295e-08,  4.91763831e-06,\n",
              "         6.49364210e-07,  2.98855730e-06, -2.11054385e-06, -4.31271610e-06,\n",
              "        -2.29961699e-07,  7.78202320e-07, -5.35664014e-07, -3.86420879e-06,\n",
              "         9.82645133e-07,  3.11478243e-06, -3.40165843e-06,  2.36000074e-06,\n",
              "        -1.83615975e-06,  2.76961714e-06,  1.33515630e-06,  3.36529070e-06,\n",
              "         2.17736169e-06,  8.45261866e-07, -2.71367412e-07, -1.19934100e-06,\n",
              "        -4.75622210e-06, -4.96239818e-06, -7.57978569e-06,  3.61832235e-07,\n",
              "         6.19612501e-06, -6.23262440e-06, -1.98955945e-08, -5.17348440e-07,\n",
              "         3.99001874e-06, -4.08049073e-06,  7.13138979e-06,  1.09995585e-06,\n",
              "         1.99837064e-06,  5.86218357e-06, -2.82773726e-06, -1.36088011e-06,\n",
              "        -3.07667074e-06, -1.43429759e-06, -3.49397010e-06, -2.38424434e-07,\n",
              "        -3.58530178e-06,  6.65789770e-08, -1.13831641e-06,  4.38828101e-06,\n",
              "         1.19221693e-06, -4.43283454e-08,  3.65570895e-06, -2.40035229e-06,\n",
              "         7.72832027e-06,  2.63911170e-06, -1.50363974e-07,  2.52048295e-07,\n",
              "         2.97075326e-06,  1.35233540e-06, -1.82957058e-06, -4.28656494e-06,\n",
              "        -1.54615566e-06,  2.20700531e-06,  1.54790587e-06,  8.93190918e-06,\n",
              "        -9.42722636e-06, -1.62967581e-06, -9.73918986e-07,  2.03109312e-06,\n",
              "         7.44505428e-07, -3.81714517e-06,  2.41303519e-06, -5.90641434e-07,\n",
              "        -5.34840865e-07,  4.97267547e-06,  8.81559663e-06,  1.27542762e-06,\n",
              "         3.84927125e-06, -2.06921936e-06,  4.08444720e-07, -6.32484625e-06,\n",
              "        -5.01793966e-06, -5.33536058e-06, -5.71829514e-06, -4.47550110e-06,\n",
              "         2.82809651e-07, -9.00917030e-09, -1.22214101e-06,  4.65286939e-06,\n",
              "         1.69542784e-06,  3.43388729e-06, -1.13226827e-06, -2.88190267e-06,\n",
              "        -4.05203355e-06,  1.95026473e-06,  2.37396719e-07, -2.57212105e-06,\n",
              "         1.16173692e-06, -1.50209326e-06,  4.18364107e-06,  2.04546541e-06,\n",
              "         2.45742012e-06, -5.31587739e-06,  2.82216524e-06,  4.13758244e-06,\n",
              "        -2.34053073e-06, -1.11182180e-06,  1.27553039e-06,  1.70192436e-06,\n",
              "         1.27999701e-05, -2.47509115e-06,  1.65140841e-06, -5.18788420e-06],\n",
              "       dtype=float32),\n",
              " array([[-1.3523283e-04, -1.4460156e-05,  6.4269952e-05, ...,\n",
              "          2.7810229e-08,  2.8350417e-08,  2.8352718e-08],\n",
              "        [-1.9740786e-05, -2.6004424e-04, -3.8806153e-05, ...,\n",
              "          1.7414324e-07,  1.7751300e-07,  1.7763553e-07],\n",
              "        [ 1.2658272e-04, -2.1586016e-04,  1.2210889e-04, ...,\n",
              "         -8.1777841e-08, -8.3342371e-08, -8.3417703e-08],\n",
              "        ...,\n",
              "        [-8.8111010e-05,  1.6758506e-05, -1.9234689e-05, ...,\n",
              "          1.3784263e-07,  1.4054656e-07,  1.4064338e-07],\n",
              "        [-2.6858923e-05, -2.1676614e-04, -2.2963758e-04, ...,\n",
              "          3.3999237e-07,  3.4656148e-07,  3.4678720e-07],\n",
              "        [-7.1281051e-05, -1.4589458e-04, -1.7134236e-04, ...,\n",
              "          1.6586770e-07,  1.6905616e-07,  1.6920973e-07]], dtype=float32),\n",
              " array([-0.781324  , -1.0980114 , -0.9813503 , ...,  0.00198701,\n",
              "         0.0020255 ,  0.00202694], dtype=float32)]"
            ]
          },
          "metadata": {
            "tags": []
          },
          "execution_count": 45
        }
      ]
    },
    {
      "cell_type": "markdown",
      "metadata": {
        "button": false,
        "deletable": true,
        "new_sheet": false,
        "run_control": {
          "read_only": false
        },
        "id": "8zxXfqViwHZ9",
        "colab_type": "text"
      },
      "source": [
        "<h4>4. Apply the optimizer to the variables / gradients tuple.</h4>"
      ]
    },
    {
      "cell_type": "code",
      "metadata": {
        "button": false,
        "deletable": true,
        "new_sheet": false,
        "run_control": {
          "read_only": false
        },
        "id": "Bv8tH7a8wHZ-",
        "colab_type": "code",
        "colab": {}
      },
      "source": [
        "# Create the training TensorFlow Operation through our optimizer\n",
        "train_op = optimizer.apply_gradients(zip(grads, tvars))"
      ],
      "execution_count": 0,
      "outputs": []
    },
    {
      "cell_type": "code",
      "metadata": {
        "button": false,
        "deletable": true,
        "new_sheet": false,
        "run_control": {
          "read_only": false
        },
        "id": "Sdpb2_XnwHaB",
        "colab_type": "code",
        "colab": {}
      },
      "source": [
        "session.run(tf.global_variables_initializer())\n",
        "session.run(train_op, feed_dict)"
      ],
      "execution_count": 0,
      "outputs": []
    },
    {
      "cell_type": "markdown",
      "metadata": {
        "id": "GYknsEIowHaI",
        "colab_type": "text"
      },
      "source": [
        "<a id=\"ltsm\"></a>\n",
        "<h2>LSTM</h2>"
      ]
    },
    {
      "cell_type": "markdown",
      "metadata": {
        "button": false,
        "deletable": true,
        "new_sheet": false,
        "run_control": {
          "read_only": false
        },
        "id": "sSrOiB7-wHaJ",
        "colab_type": "text"
      },
      "source": [
        "We learned how the model is build step by step. Noe, let's then create a Class that represents our model. This class needs a few things:\n",
        "<ul>\n",
        "    <li>We have to create the model in accordance with our defined hyperparameters</li>\n",
        "    <li>We have to create the placeholders for our input data and expected outputs (the real data)</li>\n",
        "    <li>We have to create the LSTM cell structure and connect them with our RNN structure</li>\n",
        "    <li>We have to create the word embeddings and point them to the input data</li>\n",
        "    <li>We have to create the input structure for our RNN</li>\n",
        "    <li>We have to instantiate our RNN model and retrieve the variable in which we should expect our outputs to appear</li>\n",
        "    <li>We need to create a logistic structure to return the probability of our words</li>\n",
        "    <li>We need to create the loss and cost functions for our optimizer to work, and then create the optimizer</li>\n",
        "    <li>And finally, we need to create a training operation that can be run to actually train our model</li>\n",
        "</ul>"
      ]
    },
    {
      "cell_type": "code",
      "metadata": {
        "id": "uvuOO1NNwHaK",
        "colab_type": "code",
        "colab": {
          "base_uri": "https://localhost:8080/",
          "height": 34
        },
        "outputId": "402d618e-c16f-4565-eaad-0741f050c809"
      },
      "source": [
        "hidden_size_l1"
      ],
      "execution_count": 48,
      "outputs": [
        {
          "output_type": "execute_result",
          "data": {
            "text/plain": [
              "256"
            ]
          },
          "metadata": {
            "tags": []
          },
          "execution_count": 48
        }
      ]
    },
    {
      "cell_type": "code",
      "metadata": {
        "button": false,
        "deletable": true,
        "new_sheet": false,
        "run_control": {
          "read_only": false
        },
        "id": "AV9eF6WCwHaN",
        "colab_type": "code",
        "colab": {}
      },
      "source": [
        "class PTBModel(object):\n",
        "\n",
        "    def __init__(self, action_type):\n",
        "        ######################################\n",
        "        # Setting parameters for ease of use #\n",
        "        ######################################\n",
        "        self.batch_size = batch_size\n",
        "        self.num_steps = num_steps\n",
        "        self.hidden_size_l1 = hidden_size_l1\n",
        "        self.hidden_size_l2 = hidden_size_l2\n",
        "        self.vocab_size = vocab_size\n",
        "        self.embeding_vector_size = embeding_vector_size\n",
        "        ###############################################################################\n",
        "        # Creating placeholders for our input data and expected outputs (target data) #\n",
        "        ###############################################################################\n",
        "        self._input_data = tf.placeholder(tf.int32, [batch_size, num_steps]) #[30#20]\n",
        "        self._targets = tf.placeholder(tf.int32, [batch_size, num_steps]) #[30#20]\n",
        "\n",
        "        ##########################################################################\n",
        "        # Creating the LSTM cell structure and connect it with the RNN structure #\n",
        "        ##########################################################################\n",
        "        # Create the LSTM unit. \n",
        "        # This creates only the structure for the LSTM and has to be associated with a RNN unit still.\n",
        "        # The argument n_hidden(size=200) of BasicLSTMCell is size of hidden layer, that is, the number of hidden units of the LSTM (inside A).\n",
        "        # Size is the same as the size of our hidden layer, and no bias is added to the Forget Gate. \n",
        "        # LSTM cell processes one word at a time and computes probabilities of the possible continuations of the sentence.\n",
        "        lstm_cell_l1 = tf.contrib.rnn.BasicLSTMCell(self.hidden_size_l1, forget_bias=0.0)\n",
        "        lstm_cell_l2 = tf.contrib.rnn.BasicLSTMCell(self.hidden_size_l2, forget_bias=0.0)\n",
        "        \n",
        "        # Unless you changed keep_prob, this won't actually execute -- this is a dropout wrapper for our LSTM unit\n",
        "        # This is an optimization of the LSTM output, but is not needed at all\n",
        "        if action_type == \"is_training\" and keep_prob < 1:\n",
        "            lstm_cell_l1 = tf.contrib.rnn.DropoutWrapper(lstm_cell_l1, output_keep_prob=keep_prob)\n",
        "            lstm_cell_l2 = tf.contrib.rnn.DropoutWrapper(lstm_cell_l2, output_keep_prob=keep_prob)\n",
        "        \n",
        "        # By taking in the LSTM cells as parameters, the MultiRNNCell function junctions the LSTM units to the RNN units.\n",
        "        # RNN cell composed sequentially of multiple simple cells.\n",
        "        stacked_lstm = tf.contrib.rnn.MultiRNNCell([lstm_cell_l1, lstm_cell_l2])\n",
        "\n",
        "        # Define the initial state, i.e., the model state for the very first data point\n",
        "        # It initialize the state of the LSTM memory. The memory state of the network is initialized with a vector of zeros and gets updated after reading each word.\n",
        "        self._initial_state = stacked_lstm.zero_state(batch_size, tf.float32)\n",
        "\n",
        "        ####################################################################\n",
        "        # Creating the word embeddings and pointing them to the input data #\n",
        "        ####################################################################\n",
        "        with tf.device(\"/cpu:0\"):\n",
        "            # Create the embeddings for our input data. Size is hidden size.\n",
        "            embedding = tf.get_variable(\"embedding\", [vocab_size, self.embeding_vector_size])  #[10000x200]\n",
        "            # Define where to get the data for our embeddings from\n",
        "            inputs = tf.nn.embedding_lookup(embedding, self._input_data)\n",
        "\n",
        "        # Unless you changed keep_prob, this won't actually execute -- this is a dropout addition for our inputs\n",
        "        # This is an optimization of the input processing and is not needed at all\n",
        "        if action_type == \"is_training\" and keep_prob < 1:\n",
        "            inputs = tf.nn.dropout(inputs, keep_prob)\n",
        "\n",
        "        ############################################\n",
        "        # Creating the input structure for our RNN #\n",
        "        ############################################\n",
        "        # Input structure is 20x[30x200]\n",
        "        # Considering each word is represended by a 200 dimentional vector, and we have 30 batchs, we create 30 word-vectors of size [30xx2000]\n",
        "        # inputs = [tf.squeeze(input_, [1]) for input_ in tf.split(1, num_steps, inputs)]\n",
        "        # The input structure is fed from the embeddings, which are filled in by the input data\n",
        "        # Feeding a batch of b sentences to a RNN:\n",
        "        # In step 1,  first word of each of the b sentences (in a batch) is input in parallel.  \n",
        "        # In step 2,  second word of each of the b sentences is input in parallel. \n",
        "        # The parallelism is only for efficiency.  \n",
        "        # Each sentence in a batch is handled in parallel, but the network sees one word of a sentence at a time and does the computations accordingly. \n",
        "        # All the computations involving the words of all sentences in a batch at a given time step are done in parallel. \n",
        "\n",
        "        ####################################################################################################\n",
        "        # Instantiating our RNN model and retrieving the structure for returning the outputs and the state #\n",
        "        ####################################################################################################\n",
        "        \n",
        "        outputs, state = tf.nn.dynamic_rnn(stacked_lstm, inputs, initial_state=self._initial_state)\n",
        "        #########################################################################\n",
        "        # Creating a logistic unit to return the probability of the output word #\n",
        "        #########################################################################\n",
        "        output = tf.reshape(outputs, [-1, self.hidden_size_l2])\n",
        "        softmax_w = tf.get_variable(\"softmax_w\", [self.hidden_size_l2, vocab_size]) #[200x1000]\n",
        "        softmax_b = tf.get_variable(\"softmax_b\", [vocab_size]) #[1x1000]\n",
        "        logits = tf.matmul(output, softmax_w) + softmax_b\n",
        "        logits = tf.reshape(logits, [self.batch_size, self.num_steps, vocab_size])\n",
        "        prob = tf.nn.softmax(logits)\n",
        "        out_words = tf.argmax(prob, axis=2)\n",
        "        self._output_words = out_words\n",
        "        #########################################################################\n",
        "        # Defining the loss and cost functions for the model's learning to work #\n",
        "        #########################################################################\n",
        "            \n",
        "\n",
        "        # Use the contrib sequence loss and average over the batches\n",
        "        loss = tf.contrib.seq2seq.sequence_loss(\n",
        "            logits,\n",
        "            self.targets,\n",
        "            tf.ones([batch_size, num_steps], dtype=tf.float32),\n",
        "            average_across_timesteps=False,\n",
        "            average_across_batch=True)\n",
        "    \n",
        "#         loss = tf.contrib.legacy_seq2seq.sequence_loss_by_example([logits], [tf.reshape(self._targets, [-1])],\n",
        "#                                                       [tf.ones([batch_size * num_steps])])\n",
        "        self._cost = tf.reduce_sum(loss)\n",
        "\n",
        "        # Store the final state\n",
        "        self._final_state = state\n",
        "\n",
        "        #Everything after this point is relevant only for training\n",
        "        if action_type != \"is_training\":\n",
        "            return\n",
        "\n",
        "        #################################################\n",
        "        # Creating the Training Operation for our Model #\n",
        "        #################################################\n",
        "        # Create a variable for the learning rate\n",
        "        self._lr = tf.Variable(0.0, trainable=False)\n",
        "        # Get all TensorFlow variables marked as \"trainable\" (i.e. all of them except _lr, which we just created)\n",
        "        tvars = tf.trainable_variables()\n",
        "        # Define the gradient clipping threshold\n",
        "        grads, _ = tf.clip_by_global_norm(tf.gradients(self._cost, tvars), max_grad_norm)\n",
        "        # Create the gradient descent optimizer with our learning rate\n",
        "        optimizer = tf.train.GradientDescentOptimizer(self.lr)\n",
        "        # Create the training TensorFlow Operation through our optimizer\n",
        "        self._train_op = optimizer.apply_gradients(zip(grads, tvars))\n",
        "\n",
        "    # Helper functions for our LSTM RNN class\n",
        "\n",
        "    # Assign the learning rate for this model\n",
        "    def assign_lr(self, session, lr_value):\n",
        "        session.run(tf.assign(self.lr, lr_value))\n",
        "\n",
        "    # Returns the input data for this model at a point in time\n",
        "    @property\n",
        "    def input_data(self):\n",
        "        return self._input_data\n",
        "\n",
        "\n",
        "    \n",
        "    # Returns the targets for this model at a point in time\n",
        "    @property\n",
        "    def targets(self):\n",
        "        return self._targets\n",
        "\n",
        "    # Returns the initial state for this model\n",
        "    @property\n",
        "    def initial_state(self):\n",
        "        return self._initial_state\n",
        "\n",
        "    # Returns the defined Cost\n",
        "    @property\n",
        "    def cost(self):\n",
        "        return self._cost\n",
        "\n",
        "    # Returns the final state for this model\n",
        "    @property\n",
        "    def final_state(self):\n",
        "        return self._final_state\n",
        "    \n",
        "    # Returns the final output words for this model\n",
        "    @property\n",
        "    def final_output_words(self):\n",
        "        return self._output_words\n",
        "    \n",
        "    # Returns the current learning rate for this model\n",
        "    @property\n",
        "    def lr(self):\n",
        "        return self._lr\n",
        "\n",
        "    # Returns the training operation defined for this model\n",
        "    @property\n",
        "    def train_op(self):\n",
        "        return self._train_op"
      ],
      "execution_count": 0,
      "outputs": []
    },
    {
      "cell_type": "markdown",
      "metadata": {
        "button": false,
        "deletable": true,
        "new_sheet": false,
        "run_control": {
          "read_only": false
        },
        "id": "D8zLaJ2DwHaP",
        "colab_type": "text"
      },
      "source": [
        "With that, the actual structure of our Recurrent Neural Network with Long Short-Term Memory is finished. What remains for us to do is to actually create the methods to run through time -- that is, the <code>run_epoch</code> method to be run at each epoch and a <code>main</code> script which ties all of this together.\n",
        "\n",
        "What our <code>run_epoch</code> method should do is take our input data and feed it to the relevant operations. This will return at the very least the current result for the cost function."
      ]
    },
    {
      "cell_type": "code",
      "metadata": {
        "button": false,
        "deletable": true,
        "new_sheet": false,
        "run_control": {
          "read_only": false
        },
        "id": "E5kS6VyfwHaQ",
        "colab_type": "code",
        "colab": {}
      },
      "source": [
        "##########################################################################################################################\n",
        "# run_one_epoch takes as parameters the current session, the model instance, the data to be fed, and the operation to be run #\n",
        "##########################################################################################################################\n",
        "def run_one_epoch(session, m, data, eval_op, verbose=False):\n",
        "\n",
        "    #Define the epoch size based on the length of the data, batch size and the number of steps\n",
        "    epoch_size = ((len(data) // m.batch_size) - 1) // m.num_steps\n",
        "    start_time = time.time()\n",
        "    costs = 0.0\n",
        "    iters = 0\n",
        "\n",
        "    state = session.run(m.initial_state)\n",
        "    \n",
        "    #For each step and data point\n",
        "    for step, (x, y) in enumerate(reader.ptb_iterator(data, m.batch_size, m.num_steps)):\n",
        "        \n",
        "        #Evaluate and return cost, state by running cost, final_state and the function passed as parameter\n",
        "        cost, state, out_words, _ = session.run([m.cost, m.final_state, m.final_output_words, eval_op],\n",
        "                                     {m.input_data: x,\n",
        "                                      m.targets: y,\n",
        "                                      m.initial_state: state})\n",
        "\n",
        "        #Add returned cost to costs (which keeps track of the total costs for this epoch)\n",
        "        costs += cost\n",
        "        \n",
        "        #Add number of steps to iteration counter\n",
        "        iters += m.num_steps\n",
        "\n",
        "        if verbose and step % (epoch_size // 10) == 10:\n",
        "            print(\"Itr %d of %d, perplexity: %.3f speed: %.0f wps\" % (step , epoch_size, np.exp(costs / iters), iters * m.batch_size / (time.time() - start_time)))\n",
        "\n",
        "    # Returns the Perplexity rating for us to keep track of how the model is evolving\n",
        "    return np.exp(costs / iters)\n"
      ],
      "execution_count": 0,
      "outputs": []
    },
    {
      "cell_type": "markdown",
      "metadata": {
        "button": false,
        "deletable": true,
        "new_sheet": false,
        "run_control": {
          "read_only": false
        },
        "id": "CHGscD6twHaS",
        "colab_type": "text"
      },
      "source": [
        "Now, we create the <code>main</code> method to tie everything together. The code here reads the data from the directory, using the <code>reader</code> helper module, and then trains and evaluates the model on both a testing and a validating subset of data."
      ]
    },
    {
      "cell_type": "code",
      "metadata": {
        "button": false,
        "deletable": true,
        "new_sheet": false,
        "run_control": {
          "read_only": false
        },
        "id": "ImK55YXVwHaT",
        "colab_type": "code",
        "colab": {}
      },
      "source": [
        "# Reads the data and separates it into training data, validation data and testing data\n",
        "raw_data = reader.ptb_raw_data(data_dir)\n",
        "train_data, valid_data, test_data, _, _ = raw_data"
      ],
      "execution_count": 0,
      "outputs": []
    },
    {
      "cell_type": "code",
      "metadata": {
        "button": false,
        "deletable": true,
        "new_sheet": false,
        "run_control": {
          "read_only": false
        },
        "id": "LYq5SLfwwHaZ",
        "colab_type": "code",
        "colab": {
          "base_uri": "https://localhost:8080/",
          "height": 1000
        },
        "outputId": "1f5f1f10-ed84-4b73-b07b-3089c1387cab"
      },
      "source": [
        "# Initializes the Execution Graph and the Session\n",
        "with tf.Graph().as_default(), tf.Session() as session:\n",
        "    initializer = tf.random_uniform_initializer(-init_scale, init_scale)\n",
        "    \n",
        "    # Instantiates the model for training\n",
        "    # tf.variable_scope add a prefix to the variables created with tf.get_variable\n",
        "    with tf.variable_scope(\"model\", reuse=None, initializer=initializer):\n",
        "        m = PTBModel(\"is_training\")\n",
        "        \n",
        "    # Reuses the trained parameters for the validation and testing models\n",
        "    # They are different instances but use the same variables for weights and biases, they just don't change when data is input\n",
        "    with tf.variable_scope(\"model\", reuse=True, initializer=initializer):\n",
        "        mvalid = PTBModel(\"is_validating\")\n",
        "        mtest = PTBModel(\"is_testing\")\n",
        "\n",
        "    #Initialize all variables\n",
        "    tf.global_variables_initializer().run()\n",
        "\n",
        "    for i in range(max_epoch):\n",
        "        # Define the decay for this epoch\n",
        "        lr_decay = decay ** max(i - max_epoch_decay_lr, 0.0)\n",
        "        \n",
        "        # Set the decayed learning rate as the learning rate for this epoch\n",
        "        m.assign_lr(session, learning_rate * lr_decay)\n",
        "\n",
        "        print(\"Epoch %d : Learning rate: %.3f\" % (i + 1, session.run(m.lr)))\n",
        "        \n",
        "        # Run the loop for this epoch in the training model\n",
        "        train_perplexity = run_one_epoch(session, m, train_data, m.train_op, verbose=True)\n",
        "        print(\"Epoch %d : Train Perplexity: %.3f\" % (i + 1, train_perplexity))\n",
        "        \n",
        "        # Run the loop for this epoch in the validation model\n",
        "        valid_perplexity = run_one_epoch(session, mvalid, valid_data, tf.no_op())\n",
        "        print(\"Epoch %d : Valid Perplexity: %.3f\" % (i + 1, valid_perplexity))\n",
        "    \n",
        "    # Run the loop in the testing model to see how effective was our training\n",
        "    test_perplexity = run_one_epoch(session, mtest, test_data, tf.no_op())\n",
        "    \n",
        "    print(\"Test Perplexity: %.3f\" % test_perplexity)"
      ],
      "execution_count": 52,
      "outputs": [
        {
          "output_type": "stream",
          "text": [
            "Epoch 1 : Learning rate: 1.000\n",
            "Itr 10 of 774, perplexity: 5024.035 speed: 1970 wps\n",
            "Itr 87 of 774, perplexity: 1296.719 speed: 2012 wps\n",
            "Itr 164 of 774, perplexity: 986.909 speed: 2040 wps\n",
            "Itr 241 of 774, perplexity: 820.968 speed: 2047 wps\n",
            "Itr 318 of 774, perplexity: 724.996 speed: 2045 wps\n",
            "Itr 395 of 774, perplexity: 647.533 speed: 2045 wps\n",
            "Itr 472 of 774, perplexity: 585.482 speed: 2043 wps\n",
            "Itr 549 of 774, perplexity: 532.303 speed: 2045 wps\n",
            "Itr 626 of 774, perplexity: 489.669 speed: 2056 wps\n",
            "Itr 703 of 774, perplexity: 455.205 speed: 2059 wps\n",
            "Epoch 1 : Train Perplexity: 430.525\n",
            "Epoch 1 : Valid Perplexity: 259.785\n",
            "Epoch 2 : Learning rate: 1.000\n",
            "Itr 10 of 774, perplexity: 271.865 speed: 2065 wps\n",
            "Itr 87 of 774, perplexity: 236.345 speed: 2086 wps\n",
            "Itr 164 of 774, perplexity: 226.407 speed: 2085 wps\n",
            "Itr 241 of 774, perplexity: 217.326 speed: 2081 wps\n",
            "Itr 318 of 774, perplexity: 214.802 speed: 2081 wps\n",
            "Itr 395 of 774, perplexity: 209.237 speed: 2079 wps\n",
            "Itr 472 of 774, perplexity: 204.932 speed: 2077 wps\n",
            "Itr 549 of 774, perplexity: 198.275 speed: 2077 wps\n",
            "Itr 626 of 774, perplexity: 192.779 speed: 2078 wps\n",
            "Itr 703 of 774, perplexity: 188.614 speed: 2078 wps\n",
            "Epoch 2 : Train Perplexity: 185.836\n",
            "Epoch 2 : Valid Perplexity: 175.554\n",
            "Epoch 3 : Learning rate: 1.000\n",
            "Itr 10 of 774, perplexity: 185.736 speed: 2078 wps\n",
            "Itr 87 of 774, perplexity: 159.003 speed: 2087 wps\n",
            "Itr 164 of 774, perplexity: 155.350 speed: 2081 wps\n",
            "Itr 241 of 774, perplexity: 150.812 speed: 2082 wps\n",
            "Itr 318 of 774, perplexity: 151.158 speed: 2084 wps\n",
            "Itr 395 of 774, perplexity: 148.276 speed: 2084 wps\n",
            "Itr 472 of 774, perplexity: 146.678 speed: 2083 wps\n",
            "Itr 549 of 774, perplexity: 142.940 speed: 2082 wps\n",
            "Itr 626 of 774, perplexity: 140.009 speed: 2082 wps\n",
            "Itr 703 of 774, perplexity: 138.202 speed: 2082 wps\n",
            "Epoch 3 : Train Perplexity: 137.213\n",
            "Epoch 3 : Valid Perplexity: 153.775\n",
            "Epoch 4 : Learning rate: 1.000\n",
            "Itr 10 of 774, perplexity: 147.742 speed: 2028 wps\n",
            "Itr 87 of 774, perplexity: 125.921 speed: 2070 wps\n",
            "Itr 164 of 774, perplexity: 124.359 speed: 2071 wps\n",
            "Itr 241 of 774, perplexity: 121.260 speed: 2069 wps\n",
            "Itr 318 of 774, perplexity: 122.009 speed: 2068 wps\n",
            "Itr 395 of 774, perplexity: 120.056 speed: 2070 wps\n",
            "Itr 472 of 774, perplexity: 119.305 speed: 2071 wps\n",
            "Itr 549 of 774, perplexity: 116.538 speed: 2073 wps\n",
            "Itr 626 of 774, perplexity: 114.581 speed: 2074 wps\n",
            "Itr 703 of 774, perplexity: 113.535 speed: 2075 wps\n",
            "Epoch 4 : Train Perplexity: 113.075\n",
            "Epoch 4 : Valid Perplexity: 140.023\n",
            "Epoch 5 : Learning rate: 1.000\n",
            "Itr 10 of 774, perplexity: 124.596 speed: 2057 wps\n",
            "Itr 87 of 774, perplexity: 107.335 speed: 2068 wps\n",
            "Itr 164 of 774, perplexity: 106.450 speed: 2080 wps\n",
            "Itr 241 of 774, perplexity: 104.064 speed: 2083 wps\n",
            "Itr 318 of 774, perplexity: 104.931 speed: 2083 wps\n",
            "Itr 395 of 774, perplexity: 103.437 speed: 2085 wps\n",
            "Itr 472 of 774, perplexity: 102.926 speed: 2082 wps\n",
            "Itr 549 of 774, perplexity: 100.631 speed: 2080 wps\n",
            "Itr 626 of 774, perplexity: 99.149 speed: 2080 wps\n",
            "Itr 703 of 774, perplexity: 98.435 speed: 2080 wps\n",
            "Epoch 5 : Train Perplexity: 98.212\n",
            "Epoch 5 : Valid Perplexity: 137.035\n",
            "Epoch 6 : Learning rate: 0.500\n",
            "Itr 10 of 774, perplexity: 107.386 speed: 2071 wps\n",
            "Itr 87 of 774, perplexity: 91.951 speed: 2084 wps\n",
            "Itr 164 of 774, perplexity: 90.295 speed: 2083 wps\n",
            "Itr 241 of 774, perplexity: 87.528 speed: 2080 wps\n",
            "Itr 318 of 774, perplexity: 87.846 speed: 2080 wps\n",
            "Itr 395 of 774, perplexity: 86.006 speed: 2077 wps\n",
            "Itr 472 of 774, perplexity: 85.185 speed: 2072 wps\n",
            "Itr 549 of 774, perplexity: 82.809 speed: 2074 wps\n",
            "Itr 626 of 774, perplexity: 81.171 speed: 2073 wps\n",
            "Itr 703 of 774, perplexity: 80.174 speed: 2073 wps\n",
            "Epoch 6 : Train Perplexity: 79.629\n",
            "Epoch 6 : Valid Perplexity: 126.223\n",
            "Epoch 7 : Learning rate: 0.250\n",
            "Itr 10 of 774, perplexity: 93.576 speed: 2028 wps\n",
            "Itr 87 of 774, perplexity: 81.022 speed: 2066 wps\n",
            "Itr 164 of 774, perplexity: 79.748 speed: 2077 wps\n",
            "Itr 241 of 774, perplexity: 77.264 speed: 2080 wps\n",
            "Itr 318 of 774, perplexity: 77.582 speed: 2085 wps\n",
            "Itr 395 of 774, perplexity: 75.875 speed: 2088 wps\n",
            "Itr 472 of 774, perplexity: 75.090 speed: 2088 wps\n",
            "Itr 549 of 774, perplexity: 72.875 speed: 2088 wps\n",
            "Itr 626 of 774, perplexity: 71.299 speed: 2086 wps\n",
            "Itr 703 of 774, perplexity: 70.286 speed: 2088 wps\n",
            "Epoch 7 : Train Perplexity: 69.674\n",
            "Epoch 7 : Valid Perplexity: 123.692\n",
            "Epoch 8 : Learning rate: 0.125\n",
            "Itr 10 of 774, perplexity: 85.977 speed: 2070 wps\n",
            "Itr 87 of 774, perplexity: 75.013 speed: 2097 wps\n",
            "Itr 164 of 774, perplexity: 73.923 speed: 2093 wps\n",
            "Itr 241 of 774, perplexity: 71.621 speed: 2085 wps\n",
            "Itr 318 of 774, perplexity: 71.971 speed: 2082 wps\n",
            "Itr 395 of 774, perplexity: 70.355 speed: 2086 wps\n",
            "Itr 472 of 774, perplexity: 69.593 speed: 2087 wps\n",
            "Itr 549 of 774, perplexity: 67.491 speed: 2088 wps\n",
            "Itr 626 of 774, perplexity: 65.976 speed: 2089 wps\n",
            "Itr 703 of 774, perplexity: 64.979 speed: 2090 wps\n",
            "Epoch 8 : Train Perplexity: 64.356\n",
            "Epoch 8 : Valid Perplexity: 122.721\n",
            "Epoch 9 : Learning rate: 0.062\n",
            "Itr 10 of 774, perplexity: 81.813 speed: 2067 wps\n",
            "Itr 87 of 774, perplexity: 71.652 speed: 2097 wps\n",
            "Itr 164 of 774, perplexity: 70.669 speed: 2093 wps\n",
            "Itr 241 of 774, perplexity: 68.459 speed: 2091 wps\n",
            "Itr 318 of 774, perplexity: 68.829 speed: 2093 wps\n",
            "Itr 395 of 774, perplexity: 67.279 speed: 2094 wps\n",
            "Itr 472 of 774, perplexity: 66.547 speed: 2092 wps\n",
            "Itr 549 of 774, perplexity: 64.527 speed: 2087 wps\n",
            "Itr 626 of 774, perplexity: 63.054 speed: 2088 wps\n",
            "Itr 703 of 774, perplexity: 62.078 speed: 2089 wps\n",
            "Epoch 9 : Train Perplexity: 61.465\n",
            "Epoch 9 : Valid Perplexity: 122.279\n",
            "Epoch 10 : Learning rate: 0.031\n",
            "Itr 10 of 774, perplexity: 79.620 speed: 2056 wps\n",
            "Itr 87 of 774, perplexity: 69.820 speed: 2078 wps\n",
            "Itr 164 of 774, perplexity: 68.874 speed: 2078 wps\n",
            "Itr 241 of 774, perplexity: 66.717 speed: 2078 wps\n",
            "Itr 318 of 774, perplexity: 67.098 speed: 2077 wps\n",
            "Itr 395 of 774, perplexity: 65.587 speed: 2080 wps\n",
            "Itr 472 of 774, perplexity: 64.875 speed: 2081 wps\n",
            "Itr 549 of 774, perplexity: 62.904 speed: 2081 wps\n",
            "Itr 626 of 774, perplexity: 61.459 speed: 2080 wps\n",
            "Itr 703 of 774, perplexity: 60.495 speed: 2080 wps\n",
            "Epoch 10 : Train Perplexity: 59.892\n",
            "Epoch 10 : Valid Perplexity: 121.919\n",
            "Epoch 11 : Learning rate: 0.016\n",
            "Itr 10 of 774, perplexity: 78.416 speed: 2064 wps\n",
            "Itr 87 of 774, perplexity: 68.809 speed: 2083 wps\n",
            "Itr 164 of 774, perplexity: 67.889 speed: 2086 wps\n",
            "Itr 241 of 774, perplexity: 65.759 speed: 2085 wps\n",
            "Itr 318 of 774, perplexity: 66.147 speed: 2085 wps\n",
            "Itr 395 of 774, perplexity: 64.661 speed: 2085 wps\n",
            "Itr 472 of 774, perplexity: 63.962 speed: 2083 wps\n",
            "Itr 549 of 774, perplexity: 62.017 speed: 2079 wps\n",
            "Itr 626 of 774, perplexity: 60.585 speed: 2081 wps\n",
            "Itr 703 of 774, perplexity: 59.629 speed: 2082 wps\n",
            "Epoch 11 : Train Perplexity: 59.031\n",
            "Epoch 11 : Valid Perplexity: 121.674\n",
            "Epoch 12 : Learning rate: 0.008\n",
            "Itr 10 of 774, perplexity: 77.777 speed: 2067 wps\n",
            "Itr 87 of 774, perplexity: 68.254 speed: 2087 wps\n",
            "Itr 164 of 774, perplexity: 67.359 speed: 2083 wps\n",
            "Itr 241 of 774, perplexity: 65.242 speed: 2078 wps\n",
            "Itr 318 of 774, perplexity: 65.630 speed: 2074 wps\n",
            "Itr 395 of 774, perplexity: 64.158 speed: 2077 wps\n",
            "Itr 472 of 774, perplexity: 63.464 speed: 2076 wps\n",
            "Itr 549 of 774, perplexity: 61.532 speed: 2076 wps\n",
            "Itr 626 of 774, perplexity: 60.109 speed: 2077 wps\n",
            "Itr 703 of 774, perplexity: 59.156 speed: 2077 wps\n",
            "Epoch 12 : Train Perplexity: 58.559\n",
            "Epoch 12 : Valid Perplexity: 121.484\n",
            "Epoch 13 : Learning rate: 0.004\n",
            "Itr 10 of 774, perplexity: 77.426 speed: 2046 wps\n",
            "Itr 87 of 774, perplexity: 67.941 speed: 2079 wps\n",
            "Itr 164 of 774, perplexity: 67.066 speed: 2074 wps\n",
            "Itr 241 of 774, perplexity: 64.960 speed: 2075 wps\n",
            "Itr 318 of 774, perplexity: 65.350 speed: 2079 wps\n",
            "Itr 395 of 774, perplexity: 63.886 speed: 2079 wps\n",
            "Itr 472 of 774, perplexity: 63.194 speed: 2075 wps\n",
            "Itr 549 of 774, perplexity: 61.271 speed: 2072 wps\n",
            "Itr 626 of 774, perplexity: 59.852 speed: 2071 wps\n",
            "Itr 703 of 774, perplexity: 58.901 speed: 2072 wps\n",
            "Epoch 13 : Train Perplexity: 58.305\n",
            "Epoch 13 : Valid Perplexity: 121.315\n",
            "Epoch 14 : Learning rate: 0.002\n",
            "Itr 10 of 774, perplexity: 77.229 speed: 2039 wps\n",
            "Itr 87 of 774, perplexity: 67.764 speed: 2066 wps\n",
            "Itr 164 of 774, perplexity: 66.899 speed: 2065 wps\n",
            "Itr 241 of 774, perplexity: 64.802 speed: 2066 wps\n",
            "Itr 318 of 774, perplexity: 65.195 speed: 2068 wps\n",
            "Itr 395 of 774, perplexity: 63.737 speed: 2070 wps\n",
            "Itr 472 of 774, perplexity: 63.048 speed: 2070 wps\n",
            "Itr 549 of 774, perplexity: 61.130 speed: 2069 wps\n",
            "Itr 626 of 774, perplexity: 59.713 speed: 2067 wps\n",
            "Itr 703 of 774, perplexity: 58.764 speed: 2065 wps\n",
            "Epoch 14 : Train Perplexity: 58.169\n",
            "Epoch 14 : Valid Perplexity: 121.178\n",
            "Epoch 15 : Learning rate: 0.001\n",
            "Itr 10 of 774, perplexity: 77.118 speed: 2057 wps\n",
            "Itr 87 of 774, perplexity: 67.662 speed: 2082 wps\n",
            "Itr 164 of 774, perplexity: 66.804 speed: 2084 wps\n",
            "Itr 241 of 774, perplexity: 64.713 speed: 2083 wps\n",
            "Itr 318 of 774, perplexity: 65.110 speed: 2085 wps\n",
            "Itr 395 of 774, perplexity: 63.657 speed: 2083 wps\n",
            "Itr 472 of 774, perplexity: 62.969 speed: 2081 wps\n",
            "Itr 549 of 774, perplexity: 61.054 speed: 2077 wps\n",
            "Itr 626 of 774, perplexity: 59.638 speed: 2076 wps\n",
            "Itr 703 of 774, perplexity: 58.691 speed: 2075 wps\n",
            "Epoch 15 : Train Perplexity: 58.097\n",
            "Epoch 15 : Valid Perplexity: 121.095\n",
            "Test Perplexity: 117.211\n"
          ],
          "name": "stdout"
        }
      ]
    },
    {
      "cell_type": "markdown",
      "metadata": {
        "button": false,
        "deletable": true,
        "new_sheet": false,
        "run_control": {
          "read_only": false
        },
        "id": "fZuD4KjTwHac",
        "colab_type": "text"
      },
      "source": [
        "As you can see, the model's perplexity rating drops very quickly after a few iterations. As was elaborated before, <b>lower Perplexity means that the model is more certain about its prediction</b>. As such, we can be sure that this model is performing well!"
      ]
    },
    {
      "cell_type": "markdown",
      "metadata": {
        "button": false,
        "deletable": true,
        "new_sheet": false,
        "run_control": {
          "read_only": false
        },
        "id": "0IJBOFTgwHac",
        "colab_type": "text"
      },
      "source": [
        "-------"
      ]
    },
    {
      "cell_type": "markdown",
      "metadata": {
        "button": false,
        "deletable": true,
        "new_sheet": false,
        "run_control": {
          "read_only": false
        },
        "id": "oE9HjkIewHad",
        "colab_type": "text"
      },
      "source": [
        "This is the end of the <b>Applying Recurrent Neural Networks to Text Processing</b> notebook. Hopefully you now have a better understanding of Recurrent Neural Networks and how to implement one utilizing TensorFlow. Thank you for reading this notebook, and good luck on your studies."
      ]
    },
    {
      "cell_type": "markdown",
      "metadata": {
        "button": false,
        "deletable": true,
        "new_sheet": false,
        "run_control": {
          "read_only": false
        },
        "id": "2JKK-dldwHae",
        "colab_type": "text"
      },
      "source": [
        "## Want to learn more?\n",
        "\n",
        "Running deep learning programs usually needs a high performance platform. __PowerAI__ speeds up deep learning and AI. Built on IBM’s Power Systems, __PowerAI__ is a scalable software platform that accelerates deep learning and AI with blazing performance for individual users or enterprises. The __PowerAI__ platform supports popular machine learning libraries and dependencies including TensorFlow, Caffe, Torch, and Theano. You can use [PowerAI on IMB Cloud](https://cocl.us/ML0120EN_PAI).\n",
        "\n",
        "Also, you can use __Watson Studio__ to run these notebooks faster with bigger datasets.__Watson Studio__ is IBM’s leading cloud solution for data scientists, built by data scientists. With Jupyter notebooks, RStudio, Apache Spark and popular libraries pre-packaged in the cloud, __Watson Studio__ enables data scientists to collaborate on their projects without having to install anything. Join the fast-growing community of __Watson Studio__ users today with a free account at [Watson Studio](https://cocl.us/ML0120EN_DSX).This is the end of this lesson. Thank you for reading this notebook, and good luck on your studies."
      ]
    },
    {
      "cell_type": "markdown",
      "metadata": {
        "button": false,
        "deletable": true,
        "new_sheet": false,
        "run_control": {
          "read_only": false
        },
        "id": "TE9_WOCzwHae",
        "colab_type": "text"
      },
      "source": [
        "### Thanks for completing this lesson!\n",
        "\n",
        "Notebook created by <a href=\"https://br.linkedin.com/in/walter-gomes-de-amorim-junior-624726121\">Walter Gomes de Amorim Junior</a>, <a href = \"https://linkedin.com/in/saeedaghabozorgi\"> Saeed Aghabozorgi </a></h4>"
      ]
    },
    {
      "cell_type": "markdown",
      "metadata": {
        "button": false,
        "deletable": true,
        "new_sheet": false,
        "run_control": {
          "read_only": false
        },
        "id": "PRVRXWMGwHaf",
        "colab_type": "text"
      },
      "source": [
        "<hr>\n",
        "\n",
        "Copyright &copy; 2018 [Cognitive Class](https://cocl.us/DX0108EN_CC). This notebook and its source code are released under the terms of the [MIT License](https://bigdatauniversity.com/mit-license/)."
      ]
    }
  ]
}