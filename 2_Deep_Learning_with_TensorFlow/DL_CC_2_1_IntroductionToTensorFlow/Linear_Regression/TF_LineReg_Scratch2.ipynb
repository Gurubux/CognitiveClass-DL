{
  "nbformat": 4,
  "nbformat_minor": 0,
  "metadata": {
    "colab": {
      "name": "TF_LineReg_Scratch2.ipynb",
      "version": "0.3.2",
      "provenance": [],
      "collapsed_sections": []
    },
    "kernelspec": {
      "name": "python3",
      "display_name": "Python 3"
    }
  },
  "cells": [
    {
      "cell_type": "code",
      "metadata": {
        "id": "-XI-vW-tA0b6",
        "colab_type": "code",
        "colab": {
          "base_uri": "https://localhost:8080/",
          "height": 820
        },
        "outputId": "ca79be68-a336-431f-8656-4ada187139c1"
      },
      "source": [
        "import numpy as np\n",
        "import tensorflow as tf\n",
        "import matplotlib.pyplot as plt\n",
        "\n",
        "def generate_dataset():\n",
        "\tx_batch = np.linspace(0, 2, 100)\n",
        "\ty_batch = 1.5 * x_batch + np.random.randn(*x_batch.shape) * 0.2 + 0.5\n",
        "\treturn x_batch, y_batch\n",
        "\n",
        "def linear_regression():\n",
        "\tx = tf.placeholder(tf.float32, shape=(None, ), name='x')\n",
        "\ty = tf.placeholder(tf.float32, shape=(None, ), name='y')\n",
        "\n",
        "\twith tf.variable_scope('lreg') as scope:\n",
        "\t\tw = tf.Variable(np.random.normal(), name='W')\n",
        "\t\tb = tf.Variable(np.random.normal(), name='b')\n",
        "\t\t\n",
        "\t\ty_pred = tf.add(tf.multiply(w, x), b)\n",
        "\n",
        "\t\tloss = tf.reduce_mean(tf.square(y_pred - y))\n",
        "\n",
        "\treturn x, y, y_pred, loss\n",
        "\n",
        "def run():\n",
        "\tx_batch, y_batch = generate_dataset()\n",
        "\n",
        "\tx, y, y_pred, loss = linear_regression()\n",
        "\n",
        "\toptimizer = tf.train.GradientDescentOptimizer(0.1)\n",
        "\ttrain_op = optimizer.minimize(loss)\n",
        "\n",
        "\twith tf.Session() as session:\n",
        "\t\tsession.run(tf.global_variables_initializer())\n",
        "\n",
        "\t\tfeed_dict = {x: x_batch, y: y_batch}\n",
        "\t\t\n",
        "\t\tfor i in range(30):\n",
        "\t\t\t_ = session.run(train_op, feed_dict)\n",
        "\t\t\tprint(i, \"loss:\", loss.eval(feed_dict))\n",
        "\n",
        "\t\tprint('Predicting')\n",
        "\t\ty_pred_batch = session.run(y_pred, {x : x_batch})\n",
        "\n",
        "\tplt.scatter(x_batch, y_batch)\n",
        "\tplt.plot(x_batch, y_pred_batch, color='red')\n",
        "\tplt.xlim(0, 2)\n",
        "\tplt.ylim(0, 2)\n",
        "\tplt.savefig('plot.png')\n",
        "\n",
        "if __name__ == \"__main__\":\n",
        "\trun()"
      ],
      "execution_count": 1,
      "outputs": [
        {
          "output_type": "stream",
          "text": [
            "0 loss: 0.21577029\n",
            "1 loss: 0.09571299\n",
            "2 loss: 0.05743523\n",
            "3 loss: 0.04510303\n",
            "4 loss: 0.041010257\n",
            "5 loss: 0.039541416\n",
            "6 loss: 0.038915142\n",
            "7 loss: 0.038565885\n",
            "8 loss: 0.0383137\n",
            "9 loss: 0.038100973\n",
            "10 loss: 0.037908897\n",
            "11 loss: 0.037731018\n",
            "12 loss: 0.0375648\n",
            "13 loss: 0.037409015\n",
            "14 loss: 0.037262853\n",
            "15 loss: 0.037125684\n",
            "16 loss: 0.03699693\n",
            "17 loss: 0.036876068\n",
            "18 loss: 0.036762614\n",
            "19 loss: 0.03665612\n",
            "20 loss: 0.036556147\n",
            "21 loss: 0.03646232\n",
            "22 loss: 0.036374226\n",
            "23 loss: 0.036291536\n",
            "24 loss: 0.03621392\n",
            "25 loss: 0.03614106\n",
            "26 loss: 0.03607267\n",
            "27 loss: 0.036008466\n",
            "28 loss: 0.035948202\n",
            "29 loss: 0.03589163\n",
            "Predicting\n"
          ],
          "name": "stdout"
        },
        {
          "output_type": "display_data",
          "data": {
            "image/png": "[encoded data removed]",
            "text/plain": [
              "<Figure size 432x288 with 1 Axes>"
            ]
          },
          "metadata": {
            "tags": []
          }
        }
      ]
    }
  ]
}